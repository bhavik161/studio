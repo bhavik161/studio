{
 "cells": [
  {
   "cell_type": "code",
   "execution_count": 3,
   "id": "061a1fc1-ca43-429a-847d-3113c25db531",
   "metadata": {
    "tags": []
   },
   "outputs": [],
   "source": [
    "!export MYSQLCLIENT_LDFLAGS=\"-L\"\n",
    "!export MYSQLCLIENT_CFLAGS=\"-I\""
   ]
  },
  {
   "cell_type": "code",
   "execution_count": 8,
   "id": "8f3f2ad3-f97d-4740-a946-a63b1ac030c9",
   "metadata": {
    "tags": []
   },
   "outputs": [
    {
     "name": "stdout",
     "output_type": "stream",
     "text": [
      "Requirement already satisfied: mysql-connector-python in /opt/conda/lib/python3.10/site-packages (8.1.0)\n",
      "Requirement already satisfied: faker in /opt/conda/lib/python3.10/site-packages (19.10.0)\n",
      "\u001b[31mERROR: Ignored the following versions that require a different python version: 0.9.1 Requires-Python >=2.7,<3.0; 1.0.2 Requires-Python >=3,<3.8\u001b[0m\u001b[31m\n",
      "\u001b[0m\u001b[31mERROR: Could not find a version that satisfies the requirement awsglue-local (from versions: none)\u001b[0m\u001b[31m\n",
      "\u001b[0m\u001b[31mERROR: No matching distribution found for awsglue-local\u001b[0m\u001b[31m\n",
      "\u001b[0m\n",
      "\u001b[1m[\u001b[0m\u001b[34;49mnotice\u001b[0m\u001b[1;39;49m]\u001b[0m\u001b[39;49m A new release of pip is available: \u001b[0m\u001b[31;49m23.2.1\u001b[0m\u001b[39;49m -> \u001b[0m\u001b[32;49m23.3\u001b[0m\n",
      "\u001b[1m[\u001b[0m\u001b[34;49mnotice\u001b[0m\u001b[1;39;49m]\u001b[0m\u001b[39;49m To update, run: \u001b[0m\u001b[32;49mpip install --upgrade pip\u001b[0m\n"
     ]
    }
   ],
   "source": [
    "!pip install mysql-connector-python faker awsglue-local"
   ]
  },
  {
   "cell_type": "code",
   "execution_count": 78,
   "id": "1eb1590c-a2a0-4eff-8a32-7744160bce11",
   "metadata": {
    "tags": []
   },
   "outputs": [],
   "source": [
    "\n",
    "import sys\n",
    "import random\n",
    "from faker import Faker\n",
    "from datetime import datetime, timedelta\n",
    "import mysql.connector\n",
    "from mysql.connector import errorcode\n",
    "#from awsglue.utils import getResolvedOptions\n",
    "\n",
    "\n",
    "fake = Faker()"
   ]
  },
  {
   "cell_type": "code",
   "execution_count": null,
   "id": "fafbbb03-60dc-4c9f-bce3-fc0b664fed97",
   "metadata": {},
   "outputs": [],
   "source": []
  },
  {
   "cell_type": "code",
   "execution_count": 79,
   "id": "696b608a-4943-459a-9aa6-98d02eadf19c",
   "metadata": {
    "tags": []
   },
   "outputs": [],
   "source": [
    "\n",
    "cnx = mysql.connector.connect(\n",
    "    host='db2.c0oohyxv9j5t.us-east-1.rds.amazonaws.com',\n",
    "    port='3306',\n",
    "    user='admin',\n",
    "    password='Test1234',\n",
    "    database='gluedb'\n",
    ")\n",
    "cur = cnx.cursor()"
   ]
  },
  {
   "cell_type": "code",
   "execution_count": null,
   "id": "02dba1fa-af70-46d1-957f-ea21e4c70f76",
   "metadata": {},
   "outputs": [],
   "source": []
  },
  {
   "cell_type": "code",
   "execution_count": null,
   "id": "44461de1-36ed-4420-9334-1cba640946c6",
   "metadata": {},
   "outputs": [],
   "source": []
  },
  {
   "cell_type": "code",
   "execution_count": null,
   "id": "d371690b-486e-4129-8be2-92e2805a19b7",
   "metadata": {},
   "outputs": [],
   "source": []
  },
  {
   "cell_type": "code",
   "execution_count": 13,
   "id": "70efd2eb-2688-4272-89be-b7aa479a7e4a",
   "metadata": {
    "tags": []
   },
   "outputs": [],
   "source": [
    "def create_table(cursor):\n",
    "    event_table_description = (\n",
    "        \"CREATE TABLE `sport_event` (\"\n",
    "        \"  `event_id` INT NOT NULL AUTO_INCREMENT,\"\n",
    "        \"  `sport_type` VARCHAR(256) NOT NULL,\"\n",
    "        \"  `start_date` DATETIME NOT NULL,\"\n",
    "        \"  `location` VARCHAR(256) NOT NULL,\"\n",
    "        \" `creation_time` DATETIME NOT NULL,\"\n",
    "        \" `updated_time` DATETIME NOT NULL,\"\n",
    "        \"  PRIMARY KEY (`event_id`)\"\n",
    "        \n",
    "        \") ENGINE=InnoDB\"\n",
    "    )\n",
    "    try:\n",
    "        print(\"Creating table {}: \".format(\"sport_event\"), end='')\n",
    "        cursor.execute(event_table_description)\n",
    "    except mysql.connector.Error as err:\n",
    "        if err.errno == errorcode.ER_TABLE_EXISTS_ERROR:\n",
    "            print(\"already exists.\")\n",
    "        else:\n",
    "            print(err.msg)\n",
    "    else:\n",
    "        print(\"OK\")\n",
    "\n",
    "    ticket_table_description = (\n",
    "        \"CREATE TABLE `ticket` (\"\n",
    "        \"  `ticket_id` INT NOT NULL AUTO_INCREMENT,\"\n",
    "        \"  `event_id` INT NOT NULL,\"\n",
    "        \"  `seat_level` VARCHAR(256) NOT NULL,\"\n",
    "        \"  `seat_location` VARCHAR(256) NOT NULL,\"\n",
    "        \"  `ticket_price` INT NOT NULL,\"\n",
    "        \"  PRIMARY KEY (`ticket_id`),\"\n",
    "         \" `creation_time` DATETIME NOT NULL,\"\n",
    "        \" `updated_time` DATETIME NOT NULL,\"\n",
    "        \"  FOREIGN KEY (`event_id`) REFERENCES sport_event(`event_id`)\"\n",
    "        \") ENGINE=InnoDB\"\n",
    "    )\n",
    "    try:\n",
    "        print(\"Creating table {}: \".format(\"ticket\"), end='')\n",
    "        cursor.execute(ticket_table_description)\n",
    "    except mysql.connector.Error as err:\n",
    "        if err.errno == errorcode.ER_TABLE_EXISTS_ERROR:\n",
    "            print(\"already exists.\")\n",
    "        else:\n",
    "            print(err.msg)\n",
    "    else:\n",
    "        print(\"OK\")\n",
    "\n",
    "\n",
    "    customer_table_description = (\n",
    "        \"CREATE TABLE `customer` (\"\n",
    "        \"  `customer_id` INT NOT NULL AUTO_INCREMENT,\"\n",
    "        \"  `customer_name` VARCHAR(256) NOT NULL,\"\n",
    "        \"  `email_address` VARCHAR(256) NOT NULL,\"\n",
    "        \"  `phone_number` VARCHAR(256) NOT NULL,\"\n",
    "         \" `creation_time` DATETIME NOT NULL,\"\n",
    "        \" `updated_time` DATETIME NOT NULL,\"\n",
    "        \"  PRIMARY KEY (`customer_id`)\"\n",
    "        \") ENGINE=InnoDB\"\n",
    "    )\n",
    "    try:\n",
    "        print(\"Creating table {}: \".format(\"customer\"), end='')\n",
    "        cursor.execute(customer_table_description)\n",
    "    except mysql.connector.Error as err:\n",
    "        if err.errno == errorcode.ER_TABLE_EXISTS_ERROR:\n",
    "            print(\"already exists.\")\n",
    "        else:\n",
    "            print(err.msg)\n",
    "    else:\n",
    "        print(\"OK\")\n",
    "\n",
    "\n",
    "    ticket_activity_table_description = (\n",
    "        \"CREATE TABLE `ticket_activity` (\"\n",
    "        \"  `ticket_id` INT NOT NULL,\"\n",
    "        \"  `purchased_by` INT NOT NULL,\"\n",
    "        \"  `created_at` DATETIME NOT NULL,\"\n",
    "        \"  `updated_at` DATETIME NOT NULL,\"\n",
    "        \"  PRIMARY KEY (`ticket_id`),\"\n",
    "        \"  FOREIGN KEY (`ticket_id`) REFERENCES ticket(`ticket_id`),\"\n",
    "        \"  FOREIGN KEY (`purchased_by`) REFERENCES customer(`customer_id`)\"\n",
    "        \") ENGINE=InnoDB\"\n",
    "    )\n",
    "    try:\n",
    "        print(\"Creating table {}: \".format(\"ticket_activity\"), end='')\n",
    "        cursor.execute(ticket_activity_table_description)\n",
    "    except mysql.connector.Error as err:\n",
    "        if err.errno == errorcode.ER_TABLE_EXISTS_ERROR:\n",
    "            print(\"already exists.\")\n",
    "        else:\n",
    "            print(err.msg)\n",
    "    else:\n",
    "        print(\"OK\")\n"
   ]
  },
  {
   "cell_type": "code",
   "execution_count": 27,
   "id": "ccb59e8e-e7b7-41e0-923c-359e7ef31718",
   "metadata": {
    "tags": []
   },
   "outputs": [],
   "source": [
    "sport_type_list = [\n",
    "    \"Baseball\",\n",
    "    \"Football\"\n",
    "]\n",
    "\n",
    "location_list = [\n",
    "    \"Seattle, US\",\n",
    "    \"New York, US\",\n",
    "    \"San Francisco, US\",\n",
    "    \"Los Angeles, US\",\n",
    "    \"Boston, US\",\n",
    "    \"Chicago, US\"\n",
    "]"
   ]
  },
  {
   "cell_type": "code",
   "execution_count": 28,
   "id": "0a2ae743-abdb-4916-8a6f-931aefa50fcb",
   "metadata": {
    "tags": []
   },
   "outputs": [],
   "source": [
    "def generate_seat_list(num):\n",
    "    seat_level_price = {\n",
    "        \"Standard\": 100,\n",
    "        \"Premium\": 300\n",
    "    }\n",
    "    list = []\n",
    "    for seat_level in seat_level_price.keys():\n",
    "        for i in range(num):\n",
    "            list.append((seat_level, f\"{seat_level[0]}-{i}\", seat_level_price[seat_level]))\n",
    "    return list"
   ]
  },
  {
   "cell_type": "code",
   "execution_count": 67,
   "id": "27edbf05-6b5c-41c1-9b71-3777b5354a4a",
   "metadata": {
    "tags": []
   },
   "outputs": [
    {
     "data": {
      "text/plain": [
       "datetime.time(3, 24, 55, 407748)"
      ]
     },
     "execution_count": 67,
     "metadata": {},
     "output_type": "execute_result"
    }
   ],
   "source": [
    "a = datetime.today()\n",
    "a.time()"
   ]
  },
  {
   "cell_type": "code",
   "execution_count": 68,
   "id": "2233d58d-dec6-4c49-80de-76559618aad5",
   "metadata": {
    "tags": []
   },
   "outputs": [],
   "source": [
    "\n",
    "def initialize_data(cursor, connection):\n",
    "    today = datetime.today()\n",
    "    time = today.time()\n",
    "\n",
    "    try:\n",
    "        print(\"Initializing data in table `sport_event` and `ticket`:\", end='')\n",
    "        add_event = (\"INSERT INTO sport_event \"\n",
    "                     \"(sport_type, start_date, location,creation_time,updated_time) \"\n",
    "                     \"VALUES (%s, %s, %s,%s,%s)\")\n",
    "        for num in range(50):\n",
    "            future_date = (today + timedelta(days=random.randint(30,365))).date()\n",
    "            data_event = (random.choice(sport_type_list), future_date, random.choice(location_list),today.date(),today.date())\n",
    "            cursor.execute(add_event, data_event)\n",
    "            latest_event_id = cursor.lastrowid\n",
    "\n",
    "            add_ticket = (\"INSERT INTO ticket \"\n",
    "                          \"(event_id, seat_level, seat_location, ticket_price, creation_time,updated_time) \"\n",
    "                          \"VALUES (%s, %s, %s, %s,%s,%s)\")\n",
    "            for seat_level, seat_location, ticket_price in generate_seat_list(100):\n",
    "                data_ticket = (latest_event_id, seat_level, seat_location, ticket_price, today.date(), today.date())\n",
    "                cursor.execute(add_ticket, data_ticket)\n",
    "    except mysql.connector.Error as err:\n",
    "        print(err.msg)\n",
    "    else:\n",
    "        print(\"OK\")\n",
    "\n",
    "    try:\n",
    "        print(\"Ingesting data in table `customer`:\", end='')\n",
    "        add_customer = (\"INSERT INTO customer \"\n",
    "                        \"(customer_name, email_address, phone_number, creation_time, updated_time) \"\n",
    "                        \"VALUES (%s, %s, %s, %s, %s)\")\n",
    "\n",
    "        for num in range(1000):\n",
    "            data_customer = (fake.name(), fake.ascii_email(), fake.phone_number(), today.time(), today.time())\n",
    "            cursor.execute(add_customer, data_customer)\n",
    "    except mysql.connector.Error as err:\n",
    "        print(err.msg)\n",
    "    else:\n",
    "        print(\"OK\")\n",
    "\n",
    "    connection.commit()"
   ]
  },
  {
   "cell_type": "code",
   "execution_count": 69,
   "id": "ba70bdc1-64c1-4477-937d-7ccc302c7133",
   "metadata": {
    "tags": []
   },
   "outputs": [
    {
     "name": "stdout",
     "output_type": "stream",
     "text": [
      "Initializing data in table `sport_event` and `ticket`:OK\n",
      "Ingesting data in table `customer`:OK\n"
     ]
    }
   ],
   "source": [
    "initialize_data(cur, cnx)"
   ]
  },
  {
   "cell_type": "code",
   "execution_count": 75,
   "id": "24e9ff93-28ef-431e-b203-18c27921d9fe",
   "metadata": {
    "tags": []
   },
   "outputs": [
    {
     "name": "stdout",
     "output_type": "stream",
     "text": [
      "2023-10-17 03:29:23 2023-10-17\n",
      "update customer set email_address = %s, updated_time =%s where customer_id = %s 2023-10-17 03:29:23\n"
     ]
    }
   ],
   "source": [
    "now = datetime.now()\n",
    "id = 1\n",
    "formatted_date = now.strftime('%Y-%m-%d %H:%M:%S')\n",
    "print(formatted_date, now.date())\n",
    "email_address = 'dedfdf@abc.com'\n",
    "query = \"\"\"update customer set email_address = %s, updated_time =%s where customer_id = %s\"\"\"\n",
    "input_data=(email_address,formatted_date,1)\n",
    "print(query,formatted_date)\n",
    "cur.execute(query,input_data)\n",
    "cnx.commit()\n",
    "# Assuming you have a cursor named cursor you want to execute this query on:\n",
    "#cursor.execute('insert into table(id, date_created) values(%s, %s)', (id, formatted_date))"
   ]
  },
  {
   "cell_type": "code",
   "execution_count": 76,
   "id": "3288929d-7019-4ce8-aaa1-fd830bee3d89",
   "metadata": {
    "tags": []
   },
   "outputs": [
    {
     "data": {
      "text/plain": [
       "[('dedfdf@abc.com', datetime.datetime(2023, 10, 17, 3, 29, 23))]"
      ]
     },
     "execution_count": 76,
     "metadata": {},
     "output_type": "execute_result"
    }
   ],
   "source": [
    "cur.execute(\"select email_address,updated_time from customer where customer_id =1 \")\n",
    "cur.fetchall()"
   ]
  },
  {
   "cell_type": "code",
   "execution_count": null,
   "id": "ee19a786-1e19-47a8-8cfd-dc09790130cd",
   "metadata": {},
   "outputs": [],
   "source": []
  },
  {
   "cell_type": "code",
   "execution_count": 20,
   "id": "5316c5fa-01cc-4d5c-b729-3152630ea654",
   "metadata": {
    "tags": []
   },
   "outputs": [
    {
     "name": "stdout",
     "output_type": "stream",
     "text": [
      "Creating table sport_event: already exists.\n",
      "Creating table ticket: already exists.\n",
      "Creating table customer: already exists.\n",
      "Creating table ticket_activity: already exists.\n",
      "Initializing data in table `sport_event` and `ticket`:OK\n",
      "Ingesting data in table `customer`:OK\n",
      "Selecting one record from table ticket\n",
      "Selecting one record from table customer\n",
      "Ingesting data into table ticket_activity: "
     ]
    }
   ],
   "source": [
    "\n",
    "\n",
    "\n",
    "def ingest_data(cursor, connection):\n",
    "    today = datetime.today()\n",
    "\n",
    "    print(\"Selecting one record from table {}\".format(\"ticket\"))\n",
    "    cursor.execute(\"SELECT ticket.ticket_id FROM ticket LEFT OUTER JOIN ticket_activity on ticket.ticket_id = ticket_activity.ticket_id WHERE ticket_activity.ticket_id is NULL ORDER BY RAND() LIMIT 1\")\n",
    "    rows = cursor.fetchall()\n",
    "    ticket_id = 0\n",
    "    for row in rows:\n",
    "        ticket_id = row[0]\n",
    "\n",
    "    print(\"Selecting one record from table {}\".format(\"customer\"))\n",
    "    cursor.execute(\"SELECT customer_id FROM customer ORDER BY RAND() LIMIT 1\")\n",
    "    rows = cursor.fetchall()\n",
    "    customer_id = 0\n",
    "    for row in rows:\n",
    "        customer_id = row[0]\n",
    "\n",
    "    print(\"Ingesting data into table {}: \".format(\"ticket_activity\"), end='')\n",
    "    add_ticket_activity = (\"INSERT INTO ticket_activity \"\n",
    "                 \"(ticket_id, purchased_by, created_at, updated_at) \"\n",
    "                 \"VALUES (%s, %s, %s, %s)\")\n",
    "\n",
    "    data_ticket_activity = (ticket_id, customer_id, today, today)\n",
    "    cursor.execute(add_ticket_activity, data_ticket_activity)\n",
    "\n",
    "    connection.commit()\n",
    "\n",
    "mode='initial'\n",
    "#if args['mode'] == 'initial':\n",
    "create_table(cur)\n",
    "initialize_data(cur, cnx)\n",
    "\n",
    "ingest_data(cur, cnx)\n",
    "\n",
    "cur.close()\n",
    "cnx.close()\n"
   ]
  },
  {
   "cell_type": "code",
   "execution_count": 36,
   "id": "27463724-84f3-4561-9aba-cf7fd1733cb5",
   "metadata": {},
   "outputs": [
    {
     "name": "stdout",
     "output_type": "stream",
     "text": [
      "{\n",
      "    \"JobBookmarkEntry\": {\n",
      "        \"JobName\": \"customer\",\n",
      "        \"Version\": 9,\n",
      "        \"Run\": 6,\n",
      "        \"Attempt\": 0,\n",
      "        \"JobBookmark\": \"\"\n",
      "    }\n",
      "}\n"
     ]
    }
   ],
   "source": [
    "!aws glue reset-job-bookmark --job-name customer"
   ]
  },
  {
   "cell_type": "code",
   "execution_count": null,
   "id": "0b97eb89-0dfb-4604-a3bb-a089862fec0b",
   "metadata": {},
   "outputs": [],
   "source": []
  },
  {
   "cell_type": "markdown",
   "id": "44f9213f-b50b-4a15-82a9-ab30c813e250",
   "metadata": {},
   "source": [
    "## create one table to test"
   ]
  },
  {
   "cell_type": "code",
   "execution_count": null,
   "id": "26dc0883-422a-46b6-b4ed-b77a475f7160",
   "metadata": {},
   "outputs": [],
   "source": []
  },
  {
   "cell_type": "code",
   "execution_count": 81,
   "id": "f420d9bd-a130-4e1e-b7bc-48706fa5e84c",
   "metadata": {
    "tags": []
   },
   "outputs": [
    {
     "name": "stdout",
     "output_type": "stream",
     "text": [
      "Creating table customer: OK\n"
     ]
    }
   ],
   "source": [
    " customer_table_description = (\n",
    "        \"CREATE TABLE `demo1` (\"\n",
    "        \"  `customer_id` INT NOT NULL AUTO_INCREMENT,\"\n",
    "        \"  `customer_name` VARCHAR(256) NOT NULL,\"\n",
    "        \"  `email_address` VARCHAR(256) NOT NULL,\"\n",
    "        \"  `phone_number` VARCHAR(256) NOT NULL,\"\n",
    "         \" `creation_time` DATETIME NOT NULL,\"\n",
    "        \" `updated_time` DATETIME NOT NULL,\"\n",
    "        \"  PRIMARY KEY (`customer_id`)\"\n",
    "        \") ENGINE=InnoDB\"\n",
    "    )\n",
    "try:\n",
    "        print(\"Creating table {}: \".format(\"customer\"), end='')\n",
    "        cur.execute(customer_table_description)\n",
    "except mysql.connector.Error as err:\n",
    "        if err.errno == errorcode.ER_TABLE_EXISTS_ERROR:\n",
    "            print(\"already exists.\")\n",
    "        else:\n",
    "            print(err.msg)\n",
    "else:\n",
    "        print(\"OK\")"
   ]
  },
  {
   "cell_type": "code",
   "execution_count": 89,
   "id": "a4c93b9a-6616-43e6-a4f3-57b726df4aad",
   "metadata": {},
   "outputs": [],
   "source": [
    "today = datetime.today()\n",
    "time = today.time()\n",
    "now = datetime.now()\n",
    "formatted_date = now.strftime('%Y-%m-%d %H:%M:%S')\n",
    "add_customer = (\"INSERT INTO demo1 \"\n",
    "                        \"(customer_name, email_address, phone_number, creation_time, updated_time) \"\n",
    "                        \"VALUES (%s, %s, %s, %s, %s)\")\n",
    "\n",
    "for num in range(5):\n",
    "            data_customer = (fake.name(), fake.ascii_email(), fake.phone_number(), formatted_date, formatted_date)\n",
    "            cur.execute(add_customer, data_customer)\n",
    "cnx.commit()"
   ]
  },
  {
   "cell_type": "markdown",
   "id": "5ffd0092-8933-4301-8d48-b1afaf38873f",
   "metadata": {},
   "source": [
    "### verify data"
   ]
  },
  {
   "cell_type": "raw",
   "id": "41dcc76b-5641-4334-8a5f-3da1b4f86e37",
   "metadata": {
    "tags": []
   },
   "source": [
    "query=\"truncate demo1\"\n",
    "cur.execute(query)\n",
    "cnx.commit()"
   ]
  },
  {
   "cell_type": "code",
   "execution_count": 99,
   "id": "4115644a-5e25-4d81-90a7-09ffb2bfd953",
   "metadata": {
    "tags": []
   },
   "outputs": [
    {
     "data": {
      "text/plain": [
       "[(1,\n",
       "  'Danielle Kelley',\n",
       "  'xyz@abc.com',\n",
       "  '+1-995-929-0153x419',\n",
       "  datetime.datetime(2023, 10, 17, 13, 26, 45),\n",
       "  datetime.datetime(2023, 10, 17, 15, 0, 36)),\n",
       " (2,\n",
       "  'Natalie Daugherty',\n",
       "  'danielware@hotmail.com',\n",
       "  '001-831-460-2158x30256',\n",
       "  datetime.datetime(2023, 10, 17, 13, 26, 45),\n",
       "  datetime.datetime(2023, 10, 17, 13, 26, 45)),\n",
       " (3,\n",
       "  'Joy Wade',\n",
       "  'maryjohnson@acosta.com',\n",
       "  '909-420-8608x930',\n",
       "  datetime.datetime(2023, 10, 17, 13, 26, 45),\n",
       "  datetime.datetime(2023, 10, 17, 13, 26, 45)),\n",
       " (4,\n",
       "  'Maria Savage',\n",
       "  'pbean@martin.com',\n",
       "  '374-953-1731',\n",
       "  datetime.datetime(2023, 10, 17, 13, 26, 45),\n",
       "  datetime.datetime(2023, 10, 17, 13, 26, 45)),\n",
       " (5,\n",
       "  'Dale Palmer',\n",
       "  'kristinecole@king.info',\n",
       "  '819.773.6614x98003',\n",
       "  datetime.datetime(2023, 10, 17, 13, 26, 45),\n",
       "  datetime.datetime(2023, 10, 17, 13, 26, 45))]"
      ]
     },
     "execution_count": 99,
     "metadata": {},
     "output_type": "execute_result"
    }
   ],
   "source": [
    "query=\"select * from demo1\"\n",
    "cur.execute(query)\n",
    "cur.fetchall()"
   ]
  },
  {
   "cell_type": "markdown",
   "id": "76c6d9f0-854e-4340-8f84-6db30c07b20e",
   "metadata": {},
   "source": [
    "### update first row"
   ]
  },
  {
   "cell_type": "code",
   "execution_count": 100,
   "id": "ab0cdfcd-ae4b-4353-869a-cd7e42c817de",
   "metadata": {
    "tags": []
   },
   "outputs": [
    {
     "name": "stdout",
     "output_type": "stream",
     "text": [
      "2023-10-17 15:56:27 2023-10-17\n",
      "update demo1 set email_address = %s, updated_time =%s where customer_id = %s 2023-10-17 15:56:27\n"
     ]
    }
   ],
   "source": [
    "now = datetime.now()\n",
    "id = 1\n",
    "formatted_date = now.strftime('%Y-%m-%d %H:%M:%S')\n",
    "print(formatted_date, now.date())\n",
    "email_address = 'new@abc.com'\n",
    "query = \"\"\"update demo1 set email_address = %s, updated_time =%s where customer_id = %s\"\"\"\n",
    "input_data=(email_address,formatted_date,1)\n",
    "print(query,formatted_date)\n",
    "cur.execute(query,input_data)\n",
    "cnx.commit()"
   ]
  },
  {
   "cell_type": "code",
   "execution_count": null,
   "id": "2ccfb5f3-1306-4145-ab65-5681bb7ca572",
   "metadata": {},
   "outputs": [],
   "source": []
  }
 ],
 "metadata": {
  "availableInstances": [
   {
    "_defaultOrder": 0,
    "_isFastLaunch": true,
    "category": "General purpose",
    "gpuNum": 0,
    "hideHardwareSpecs": false,
    "memoryGiB": 4,
    "name": "ml.t3.medium",
    "vcpuNum": 2
   },
   {
    "_defaultOrder": 1,
    "_isFastLaunch": false,
    "category": "General purpose",
    "gpuNum": 0,
    "hideHardwareSpecs": false,
    "memoryGiB": 8,
    "name": "ml.t3.large",
    "vcpuNum": 2
   },
   {
    "_defaultOrder": 2,
    "_isFastLaunch": false,
    "category": "General purpose",
    "gpuNum": 0,
    "hideHardwareSpecs": false,
    "memoryGiB": 16,
    "name": "ml.t3.xlarge",
    "vcpuNum": 4
   },
   {
    "_defaultOrder": 3,
    "_isFastLaunch": false,
    "category": "General purpose",
    "gpuNum": 0,
    "hideHardwareSpecs": false,
    "memoryGiB": 32,
    "name": "ml.t3.2xlarge",
    "vcpuNum": 8
   },
   {
    "_defaultOrder": 4,
    "_isFastLaunch": true,
    "category": "General purpose",
    "gpuNum": 0,
    "hideHardwareSpecs": false,
    "memoryGiB": 8,
    "name": "ml.m5.large",
    "vcpuNum": 2
   },
   {
    "_defaultOrder": 5,
    "_isFastLaunch": false,
    "category": "General purpose",
    "gpuNum": 0,
    "hideHardwareSpecs": false,
    "memoryGiB": 16,
    "name": "ml.m5.xlarge",
    "vcpuNum": 4
   },
   {
    "_defaultOrder": 6,
    "_isFastLaunch": false,
    "category": "General purpose",
    "gpuNum": 0,
    "hideHardwareSpecs": false,
    "memoryGiB": 32,
    "name": "ml.m5.2xlarge",
    "vcpuNum": 8
   },
   {
    "_defaultOrder": 7,
    "_isFastLaunch": false,
    "category": "General purpose",
    "gpuNum": 0,
    "hideHardwareSpecs": false,
    "memoryGiB": 64,
    "name": "ml.m5.4xlarge",
    "vcpuNum": 16
   },
   {
    "_defaultOrder": 8,
    "_isFastLaunch": false,
    "category": "General purpose",
    "gpuNum": 0,
    "hideHardwareSpecs": false,
    "memoryGiB": 128,
    "name": "ml.m5.8xlarge",
    "vcpuNum": 32
   },
   {
    "_defaultOrder": 9,
    "_isFastLaunch": false,
    "category": "General purpose",
    "gpuNum": 0,
    "hideHardwareSpecs": false,
    "memoryGiB": 192,
    "name": "ml.m5.12xlarge",
    "vcpuNum": 48
   },
   {
    "_defaultOrder": 10,
    "_isFastLaunch": false,
    "category": "General purpose",
    "gpuNum": 0,
    "hideHardwareSpecs": false,
    "memoryGiB": 256,
    "name": "ml.m5.16xlarge",
    "vcpuNum": 64
   },
   {
    "_defaultOrder": 11,
    "_isFastLaunch": false,
    "category": "General purpose",
    "gpuNum": 0,
    "hideHardwareSpecs": false,
    "memoryGiB": 384,
    "name": "ml.m5.24xlarge",
    "vcpuNum": 96
   },
   {
    "_defaultOrder": 12,
    "_isFastLaunch": false,
    "category": "General purpose",
    "gpuNum": 0,
    "hideHardwareSpecs": false,
    "memoryGiB": 8,
    "name": "ml.m5d.large",
    "vcpuNum": 2
   },
   {
    "_defaultOrder": 13,
    "_isFastLaunch": false,
    "category": "General purpose",
    "gpuNum": 0,
    "hideHardwareSpecs": false,
    "memoryGiB": 16,
    "name": "ml.m5d.xlarge",
    "vcpuNum": 4
   },
   {
    "_defaultOrder": 14,
    "_isFastLaunch": false,
    "category": "General purpose",
    "gpuNum": 0,
    "hideHardwareSpecs": false,
    "memoryGiB": 32,
    "name": "ml.m5d.2xlarge",
    "vcpuNum": 8
   },
   {
    "_defaultOrder": 15,
    "_isFastLaunch": false,
    "category": "General purpose",
    "gpuNum": 0,
    "hideHardwareSpecs": false,
    "memoryGiB": 64,
    "name": "ml.m5d.4xlarge",
    "vcpuNum": 16
   },
   {
    "_defaultOrder": 16,
    "_isFastLaunch": false,
    "category": "General purpose",
    "gpuNum": 0,
    "hideHardwareSpecs": false,
    "memoryGiB": 128,
    "name": "ml.m5d.8xlarge",
    "vcpuNum": 32
   },
   {
    "_defaultOrder": 17,
    "_isFastLaunch": false,
    "category": "General purpose",
    "gpuNum": 0,
    "hideHardwareSpecs": false,
    "memoryGiB": 192,
    "name": "ml.m5d.12xlarge",
    "vcpuNum": 48
   },
   {
    "_defaultOrder": 18,
    "_isFastLaunch": false,
    "category": "General purpose",
    "gpuNum": 0,
    "hideHardwareSpecs": false,
    "memoryGiB": 256,
    "name": "ml.m5d.16xlarge",
    "vcpuNum": 64
   },
   {
    "_defaultOrder": 19,
    "_isFastLaunch": false,
    "category": "General purpose",
    "gpuNum": 0,
    "hideHardwareSpecs": false,
    "memoryGiB": 384,
    "name": "ml.m5d.24xlarge",
    "vcpuNum": 96
   },
   {
    "_defaultOrder": 20,
    "_isFastLaunch": false,
    "category": "General purpose",
    "gpuNum": 0,
    "hideHardwareSpecs": true,
    "memoryGiB": 0,
    "name": "ml.geospatial.interactive",
    "supportedImageNames": [
     "sagemaker-geospatial-v1-0"
    ],
    "vcpuNum": 0
   },
   {
    "_defaultOrder": 21,
    "_isFastLaunch": true,
    "category": "Compute optimized",
    "gpuNum": 0,
    "hideHardwareSpecs": false,
    "memoryGiB": 4,
    "name": "ml.c5.large",
    "vcpuNum": 2
   },
   {
    "_defaultOrder": 22,
    "_isFastLaunch": false,
    "category": "Compute optimized",
    "gpuNum": 0,
    "hideHardwareSpecs": false,
    "memoryGiB": 8,
    "name": "ml.c5.xlarge",
    "vcpuNum": 4
   },
   {
    "_defaultOrder": 23,
    "_isFastLaunch": false,
    "category": "Compute optimized",
    "gpuNum": 0,
    "hideHardwareSpecs": false,
    "memoryGiB": 16,
    "name": "ml.c5.2xlarge",
    "vcpuNum": 8
   },
   {
    "_defaultOrder": 24,
    "_isFastLaunch": false,
    "category": "Compute optimized",
    "gpuNum": 0,
    "hideHardwareSpecs": false,
    "memoryGiB": 32,
    "name": "ml.c5.4xlarge",
    "vcpuNum": 16
   },
   {
    "_defaultOrder": 25,
    "_isFastLaunch": false,
    "category": "Compute optimized",
    "gpuNum": 0,
    "hideHardwareSpecs": false,
    "memoryGiB": 72,
    "name": "ml.c5.9xlarge",
    "vcpuNum": 36
   },
   {
    "_defaultOrder": 26,
    "_isFastLaunch": false,
    "category": "Compute optimized",
    "gpuNum": 0,
    "hideHardwareSpecs": false,
    "memoryGiB": 96,
    "name": "ml.c5.12xlarge",
    "vcpuNum": 48
   },
   {
    "_defaultOrder": 27,
    "_isFastLaunch": false,
    "category": "Compute optimized",
    "gpuNum": 0,
    "hideHardwareSpecs": false,
    "memoryGiB": 144,
    "name": "ml.c5.18xlarge",
    "vcpuNum": 72
   },
   {
    "_defaultOrder": 28,
    "_isFastLaunch": false,
    "category": "Compute optimized",
    "gpuNum": 0,
    "hideHardwareSpecs": false,
    "memoryGiB": 192,
    "name": "ml.c5.24xlarge",
    "vcpuNum": 96
   },
   {
    "_defaultOrder": 29,
    "_isFastLaunch": true,
    "category": "Accelerated computing",
    "gpuNum": 1,
    "hideHardwareSpecs": false,
    "memoryGiB": 16,
    "name": "ml.g4dn.xlarge",
    "vcpuNum": 4
   },
   {
    "_defaultOrder": 30,
    "_isFastLaunch": false,
    "category": "Accelerated computing",
    "gpuNum": 1,
    "hideHardwareSpecs": false,
    "memoryGiB": 32,
    "name": "ml.g4dn.2xlarge",
    "vcpuNum": 8
   },
   {
    "_defaultOrder": 31,
    "_isFastLaunch": false,
    "category": "Accelerated computing",
    "gpuNum": 1,
    "hideHardwareSpecs": false,
    "memoryGiB": 64,
    "name": "ml.g4dn.4xlarge",
    "vcpuNum": 16
   },
   {
    "_defaultOrder": 32,
    "_isFastLaunch": false,
    "category": "Accelerated computing",
    "gpuNum": 1,
    "hideHardwareSpecs": false,
    "memoryGiB": 128,
    "name": "ml.g4dn.8xlarge",
    "vcpuNum": 32
   },
   {
    "_defaultOrder": 33,
    "_isFastLaunch": false,
    "category": "Accelerated computing",
    "gpuNum": 4,
    "hideHardwareSpecs": false,
    "memoryGiB": 192,
    "name": "ml.g4dn.12xlarge",
    "vcpuNum": 48
   },
   {
    "_defaultOrder": 34,
    "_isFastLaunch": false,
    "category": "Accelerated computing",
    "gpuNum": 1,
    "hideHardwareSpecs": false,
    "memoryGiB": 256,
    "name": "ml.g4dn.16xlarge",
    "vcpuNum": 64
   },
   {
    "_defaultOrder": 35,
    "_isFastLaunch": false,
    "category": "Accelerated computing",
    "gpuNum": 1,
    "hideHardwareSpecs": false,
    "memoryGiB": 61,
    "name": "ml.p3.2xlarge",
    "vcpuNum": 8
   },
   {
    "_defaultOrder": 36,
    "_isFastLaunch": false,
    "category": "Accelerated computing",
    "gpuNum": 4,
    "hideHardwareSpecs": false,
    "memoryGiB": 244,
    "name": "ml.p3.8xlarge",
    "vcpuNum": 32
   },
   {
    "_defaultOrder": 37,
    "_isFastLaunch": false,
    "category": "Accelerated computing",
    "gpuNum": 8,
    "hideHardwareSpecs": false,
    "memoryGiB": 488,
    "name": "ml.p3.16xlarge",
    "vcpuNum": 64
   },
   {
    "_defaultOrder": 38,
    "_isFastLaunch": false,
    "category": "Accelerated computing",
    "gpuNum": 8,
    "hideHardwareSpecs": false,
    "memoryGiB": 768,
    "name": "ml.p3dn.24xlarge",
    "vcpuNum": 96
   },
   {
    "_defaultOrder": 39,
    "_isFastLaunch": false,
    "category": "Memory Optimized",
    "gpuNum": 0,
    "hideHardwareSpecs": false,
    "memoryGiB": 16,
    "name": "ml.r5.large",
    "vcpuNum": 2
   },
   {
    "_defaultOrder": 40,
    "_isFastLaunch": false,
    "category": "Memory Optimized",
    "gpuNum": 0,
    "hideHardwareSpecs": false,
    "memoryGiB": 32,
    "name": "ml.r5.xlarge",
    "vcpuNum": 4
   },
   {
    "_defaultOrder": 41,
    "_isFastLaunch": false,
    "category": "Memory Optimized",
    "gpuNum": 0,
    "hideHardwareSpecs": false,
    "memoryGiB": 64,
    "name": "ml.r5.2xlarge",
    "vcpuNum": 8
   },
   {
    "_defaultOrder": 42,
    "_isFastLaunch": false,
    "category": "Memory Optimized",
    "gpuNum": 0,
    "hideHardwareSpecs": false,
    "memoryGiB": 128,
    "name": "ml.r5.4xlarge",
    "vcpuNum": 16
   },
   {
    "_defaultOrder": 43,
    "_isFastLaunch": false,
    "category": "Memory Optimized",
    "gpuNum": 0,
    "hideHardwareSpecs": false,
    "memoryGiB": 256,
    "name": "ml.r5.8xlarge",
    "vcpuNum": 32
   },
   {
    "_defaultOrder": 44,
    "_isFastLaunch": false,
    "category": "Memory Optimized",
    "gpuNum": 0,
    "hideHardwareSpecs": false,
    "memoryGiB": 384,
    "name": "ml.r5.12xlarge",
    "vcpuNum": 48
   },
   {
    "_defaultOrder": 45,
    "_isFastLaunch": false,
    "category": "Memory Optimized",
    "gpuNum": 0,
    "hideHardwareSpecs": false,
    "memoryGiB": 512,
    "name": "ml.r5.16xlarge",
    "vcpuNum": 64
   },
   {
    "_defaultOrder": 46,
    "_isFastLaunch": false,
    "category": "Memory Optimized",
    "gpuNum": 0,
    "hideHardwareSpecs": false,
    "memoryGiB": 768,
    "name": "ml.r5.24xlarge",
    "vcpuNum": 96
   },
   {
    "_defaultOrder": 47,
    "_isFastLaunch": false,
    "category": "Accelerated computing",
    "gpuNum": 1,
    "hideHardwareSpecs": false,
    "memoryGiB": 16,
    "name": "ml.g5.xlarge",
    "vcpuNum": 4
   },
   {
    "_defaultOrder": 48,
    "_isFastLaunch": false,
    "category": "Accelerated computing",
    "gpuNum": 1,
    "hideHardwareSpecs": false,
    "memoryGiB": 32,
    "name": "ml.g5.2xlarge",
    "vcpuNum": 8
   },
   {
    "_defaultOrder": 49,
    "_isFastLaunch": false,
    "category": "Accelerated computing",
    "gpuNum": 1,
    "hideHardwareSpecs": false,
    "memoryGiB": 64,
    "name": "ml.g5.4xlarge",
    "vcpuNum": 16
   },
   {
    "_defaultOrder": 50,
    "_isFastLaunch": false,
    "category": "Accelerated computing",
    "gpuNum": 1,
    "hideHardwareSpecs": false,
    "memoryGiB": 128,
    "name": "ml.g5.8xlarge",
    "vcpuNum": 32
   },
   {
    "_defaultOrder": 51,
    "_isFastLaunch": false,
    "category": "Accelerated computing",
    "gpuNum": 1,
    "hideHardwareSpecs": false,
    "memoryGiB": 256,
    "name": "ml.g5.16xlarge",
    "vcpuNum": 64
   },
   {
    "_defaultOrder": 52,
    "_isFastLaunch": false,
    "category": "Accelerated computing",
    "gpuNum": 4,
    "hideHardwareSpecs": false,
    "memoryGiB": 192,
    "name": "ml.g5.12xlarge",
    "vcpuNum": 48
   },
   {
    "_defaultOrder": 53,
    "_isFastLaunch": false,
    "category": "Accelerated computing",
    "gpuNum": 4,
    "hideHardwareSpecs": false,
    "memoryGiB": 384,
    "name": "ml.g5.24xlarge",
    "vcpuNum": 96
   },
   {
    "_defaultOrder": 54,
    "_isFastLaunch": false,
    "category": "Accelerated computing",
    "gpuNum": 8,
    "hideHardwareSpecs": false,
    "memoryGiB": 768,
    "name": "ml.g5.48xlarge",
    "vcpuNum": 192
   },
   {
    "_defaultOrder": 55,
    "_isFastLaunch": false,
    "category": "Accelerated computing",
    "gpuNum": 8,
    "hideHardwareSpecs": false,
    "memoryGiB": 1152,
    "name": "ml.p4d.24xlarge",
    "vcpuNum": 96
   },
   {
    "_defaultOrder": 56,
    "_isFastLaunch": false,
    "category": "Accelerated computing",
    "gpuNum": 8,
    "hideHardwareSpecs": false,
    "memoryGiB": 1152,
    "name": "ml.p4de.24xlarge",
    "vcpuNum": 96
   }
  ],
  "instance_type": "ml.t3.medium",
  "kernelspec": {
   "display_name": "Python 3 (Data Science 3.0)",
   "language": "python",
   "name": "python3__SAGEMAKER_INTERNAL__arn:aws:sagemaker:us-east-1:081325390199:image/sagemaker-data-science-310-v1"
  },
  "language_info": {
   "codemirror_mode": {
    "name": "ipython",
    "version": 3
   },
   "file_extension": ".py",
   "mimetype": "text/x-python",
   "name": "python",
   "nbconvert_exporter": "python",
   "pygments_lexer": "ipython3",
   "version": "3.10.6"
  }
 },
 "nbformat": 4,
 "nbformat_minor": 5
}
