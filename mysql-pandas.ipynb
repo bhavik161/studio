{
 "cells": [
  {
   "cell_type": "code",
   "execution_count": 13,
   "id": "663c01d6-d3d2-4d10-83cf-6447c0550765",
   "metadata": {
    "tags": []
   },
   "outputs": [],
   "source": [
    "import pandas as pd"
   ]
  },
  {
   "cell_type": "code",
   "execution_count": 73,
   "id": "d9446759-329e-4740-a30e-0547bb44e209",
   "metadata": {
    "tags": []
   },
   "outputs": [],
   "source": [
    "df = pd.read_parquet('s3://testbb-123/etl-output/demo-1-partition/')"
   ]
  },
  {
   "cell_type": "code",
   "execution_count": 74,
   "id": "2c7d9e30-7368-4d8e-8613-5b5ac56dcbdf",
   "metadata": {
    "tags": []
   },
   "outputs": [
    {
     "data": {
      "text/html": [
       "<div>\n",
       "<style scoped>\n",
       "    .dataframe tbody tr th:only-of-type {\n",
       "        vertical-align: middle;\n",
       "    }\n",
       "\n",
       "    .dataframe tbody tr th {\n",
       "        vertical-align: top;\n",
       "    }\n",
       "\n",
       "    .dataframe thead th {\n",
       "        text-align: right;\n",
       "    }\n",
       "</style>\n",
       "<table border=\"1\" class=\"dataframe\">\n",
       "  <thead>\n",
       "    <tr style=\"text-align: right;\">\n",
       "      <th></th>\n",
       "      <th>customer_id</th>\n",
       "      <th>customer_name</th>\n",
       "      <th>email_address</th>\n",
       "      <th>phone_number</th>\n",
       "      <th>creation_time</th>\n",
       "      <th>updated_time</th>\n",
       "      <th>partition_col</th>\n",
       "    </tr>\n",
       "  </thead>\n",
       "  <tbody>\n",
       "    <tr>\n",
       "      <th>4</th>\n",
       "      <td>1</td>\n",
       "      <td>Danielle Kelley</td>\n",
       "      <td>dferer@abc.com</td>\n",
       "      <td>+1-995-929-0153x419</td>\n",
       "      <td>2023-10-17 13:26:45</td>\n",
       "      <td>2023-10-17 14:20:56</td>\n",
       "      <td>2023-10-17 14:51:21.972</td>\n",
       "    </tr>\n",
       "    <tr>\n",
       "      <th>2</th>\n",
       "      <td>2</td>\n",
       "      <td>Natalie Daugherty</td>\n",
       "      <td>danielware@hotmail.com</td>\n",
       "      <td>001-831-460-2158x30256</td>\n",
       "      <td>2023-10-17 13:26:45</td>\n",
       "      <td>2023-10-17 13:26:45</td>\n",
       "      <td>2023-10-17 14:51:21.972</td>\n",
       "    </tr>\n",
       "    <tr>\n",
       "      <th>3</th>\n",
       "      <td>3</td>\n",
       "      <td>Joy Wade</td>\n",
       "      <td>maryjohnson@acosta.com</td>\n",
       "      <td>909-420-8608x930</td>\n",
       "      <td>2023-10-17 13:26:45</td>\n",
       "      <td>2023-10-17 13:26:45</td>\n",
       "      <td>2023-10-17 14:51:21.972</td>\n",
       "    </tr>\n",
       "    <tr>\n",
       "      <th>1</th>\n",
       "      <td>4</td>\n",
       "      <td>Maria Savage</td>\n",
       "      <td>pbean@martin.com</td>\n",
       "      <td>374-953-1731</td>\n",
       "      <td>2023-10-17 13:26:45</td>\n",
       "      <td>2023-10-17 13:26:45</td>\n",
       "      <td>2023-10-17 14:51:21.972</td>\n",
       "    </tr>\n",
       "    <tr>\n",
       "      <th>0</th>\n",
       "      <td>5</td>\n",
       "      <td>Dale Palmer</td>\n",
       "      <td>kristinecole@king.info</td>\n",
       "      <td>819.773.6614x98003</td>\n",
       "      <td>2023-10-17 13:26:45</td>\n",
       "      <td>2023-10-17 13:26:45</td>\n",
       "      <td>2023-10-17 14:51:21.972</td>\n",
       "    </tr>\n",
       "  </tbody>\n",
       "</table>\n",
       "</div>"
      ],
      "text/plain": [
       "   customer_id      customer_name           email_address  \\\n",
       "4            1    Danielle Kelley          dferer@abc.com   \n",
       "2            2  Natalie Daugherty  danielware@hotmail.com   \n",
       "3            3           Joy Wade  maryjohnson@acosta.com   \n",
       "1            4       Maria Savage        pbean@martin.com   \n",
       "0            5        Dale Palmer  kristinecole@king.info   \n",
       "\n",
       "             phone_number       creation_time        updated_time  \\\n",
       "4     +1-995-929-0153x419 2023-10-17 13:26:45 2023-10-17 14:20:56   \n",
       "2  001-831-460-2158x30256 2023-10-17 13:26:45 2023-10-17 13:26:45   \n",
       "3        909-420-8608x930 2023-10-17 13:26:45 2023-10-17 13:26:45   \n",
       "1            374-953-1731 2023-10-17 13:26:45 2023-10-17 13:26:45   \n",
       "0      819.773.6614x98003 2023-10-17 13:26:45 2023-10-17 13:26:45   \n",
       "\n",
       "             partition_col  \n",
       "4  2023-10-17 14:51:21.972  \n",
       "2  2023-10-17 14:51:21.972  \n",
       "3  2023-10-17 14:51:21.972  \n",
       "1  2023-10-17 14:51:21.972  \n",
       "0  2023-10-17 14:51:21.972  "
      ]
     },
     "execution_count": 74,
     "metadata": {},
     "output_type": "execute_result"
    }
   ],
   "source": [
    "df.sort_values('customer_id')"
   ]
  },
  {
   "cell_type": "code",
   "execution_count": 64,
   "id": "5ba4c83d-1093-471a-b841-4f7d77835a49",
   "metadata": {
    "tags": []
   },
   "outputs": [],
   "source": [
    "options = [1] \n",
    "\n",
    "# selecting rows based on condition \n",
    "rslt_df = df[df['customer_id'].isin(options)] \n",
    "\n",
    "#print('\\nResult dataframe :\\n',rslt_df)\n"
   ]
  },
  {
   "cell_type": "code",
   "execution_count": 65,
   "id": "1bdbbe18-cc49-48be-bc18-db511a828d1d",
   "metadata": {
    "tags": []
   },
   "outputs": [
    {
     "data": {
      "text/html": [
       "<div>\n",
       "<style scoped>\n",
       "    .dataframe tbody tr th:only-of-type {\n",
       "        vertical-align: middle;\n",
       "    }\n",
       "\n",
       "    .dataframe tbody tr th {\n",
       "        vertical-align: top;\n",
       "    }\n",
       "\n",
       "    .dataframe thead th {\n",
       "        text-align: right;\n",
       "    }\n",
       "</style>\n",
       "<table border=\"1\" class=\"dataframe\">\n",
       "  <thead>\n",
       "    <tr style=\"text-align: right;\">\n",
       "      <th></th>\n",
       "      <th>customer_id</th>\n",
       "      <th>customer_name</th>\n",
       "      <th>email_address</th>\n",
       "      <th>phone_number</th>\n",
       "      <th>creation_time</th>\n",
       "      <th>updated_time</th>\n",
       "      <th>partition_col</th>\n",
       "    </tr>\n",
       "  </thead>\n",
       "  <tbody>\n",
       "    <tr>\n",
       "      <th>4</th>\n",
       "      <td>1</td>\n",
       "      <td>Danielle Kelley</td>\n",
       "      <td>dferer@abc.com</td>\n",
       "      <td>+1-995-929-0153x419</td>\n",
       "      <td>2023-10-17 13:26:45</td>\n",
       "      <td>2023-10-17 14:20:56</td>\n",
       "      <td>2023-10-17 14:51:21.972</td>\n",
       "    </tr>\n",
       "  </tbody>\n",
       "</table>\n",
       "</div>"
      ],
      "text/plain": [
       "   customer_id    customer_name   email_address         phone_number  \\\n",
       "4            1  Danielle Kelley  dferer@abc.com  +1-995-929-0153x419   \n",
       "\n",
       "        creation_time        updated_time            partition_col  \n",
       "4 2023-10-17 13:26:45 2023-10-17 14:20:56  2023-10-17 14:51:21.972  "
      ]
     },
     "execution_count": 65,
     "metadata": {},
     "output_type": "execute_result"
    }
   ],
   "source": [
    "rslt_df"
   ]
  },
  {
   "cell_type": "code",
   "execution_count": 34,
   "id": "a9050173-7a5d-4845-bccc-d19d0baa963b",
   "metadata": {},
   "outputs": [],
   "source": [
    "#daily load"
   ]
  },
  {
   "cell_type": "code",
   "execution_count": 76,
   "id": "1bd8e672-df55-46d5-89f5-fce64db46b96",
   "metadata": {
    "tags": []
   },
   "outputs": [
    {
     "data": {
      "text/html": [
       "<div>\n",
       "<style scoped>\n",
       "    .dataframe tbody tr th:only-of-type {\n",
       "        vertical-align: middle;\n",
       "    }\n",
       "\n",
       "    .dataframe tbody tr th {\n",
       "        vertical-align: top;\n",
       "    }\n",
       "\n",
       "    .dataframe thead th {\n",
       "        text-align: right;\n",
       "    }\n",
       "</style>\n",
       "<table border=\"1\" class=\"dataframe\">\n",
       "  <thead>\n",
       "    <tr style=\"text-align: right;\">\n",
       "      <th></th>\n",
       "      <th>customer_id</th>\n",
       "      <th>customer_name</th>\n",
       "      <th>email_address</th>\n",
       "      <th>phone_number</th>\n",
       "      <th>creation_time</th>\n",
       "      <th>updated_time</th>\n",
       "      <th>partition_col</th>\n",
       "    </tr>\n",
       "  </thead>\n",
       "  <tbody>\n",
       "    <tr>\n",
       "      <th>0</th>\n",
       "      <td>1</td>\n",
       "      <td>Danielle Kelley</td>\n",
       "      <td>xyz@abc.com</td>\n",
       "      <td>+1-995-929-0153x419</td>\n",
       "      <td>2023-10-17 13:26:45</td>\n",
       "      <td>2023-10-17 15:00:36</td>\n",
       "      <td>2023-10-17</td>\n",
       "    </tr>\n",
       "    <tr>\n",
       "      <th>1</th>\n",
       "      <td>5</td>\n",
       "      <td>Dale Palmer</td>\n",
       "      <td>kristinecole@king.info</td>\n",
       "      <td>819.773.6614x98003</td>\n",
       "      <td>2023-10-17 13:26:45</td>\n",
       "      <td>2023-10-17 13:26:45</td>\n",
       "      <td>2023-10-17</td>\n",
       "    </tr>\n",
       "    <tr>\n",
       "      <th>2</th>\n",
       "      <td>4</td>\n",
       "      <td>Maria Savage</td>\n",
       "      <td>pbean@martin.com</td>\n",
       "      <td>374-953-1731</td>\n",
       "      <td>2023-10-17 13:26:45</td>\n",
       "      <td>2023-10-17 13:26:45</td>\n",
       "      <td>2023-10-17</td>\n",
       "    </tr>\n",
       "    <tr>\n",
       "      <th>3</th>\n",
       "      <td>2</td>\n",
       "      <td>Natalie Daugherty</td>\n",
       "      <td>danielware@hotmail.com</td>\n",
       "      <td>001-831-460-2158x30256</td>\n",
       "      <td>2023-10-17 13:26:45</td>\n",
       "      <td>2023-10-17 13:26:45</td>\n",
       "      <td>2023-10-17</td>\n",
       "    </tr>\n",
       "    <tr>\n",
       "      <th>4</th>\n",
       "      <td>3</td>\n",
       "      <td>Joy Wade</td>\n",
       "      <td>maryjohnson@acosta.com</td>\n",
       "      <td>909-420-8608x930</td>\n",
       "      <td>2023-10-17 13:26:45</td>\n",
       "      <td>2023-10-17 13:26:45</td>\n",
       "      <td>2023-10-17</td>\n",
       "    </tr>\n",
       "    <tr>\n",
       "      <th>5</th>\n",
       "      <td>1</td>\n",
       "      <td>Danielle Kelley</td>\n",
       "      <td>new@abc.com</td>\n",
       "      <td>+1-995-929-0153x419</td>\n",
       "      <td>2023-10-17 13:26:45</td>\n",
       "      <td>2023-10-17 15:56:27</td>\n",
       "      <td>2023-10-17</td>\n",
       "    </tr>\n",
       "  </tbody>\n",
       "</table>\n",
       "</div>"
      ],
      "text/plain": [
       "   customer_id      customer_name           email_address  \\\n",
       "0            1    Danielle Kelley             xyz@abc.com   \n",
       "1            5        Dale Palmer  kristinecole@king.info   \n",
       "2            4       Maria Savage        pbean@martin.com   \n",
       "3            2  Natalie Daugherty  danielware@hotmail.com   \n",
       "4            3           Joy Wade  maryjohnson@acosta.com   \n",
       "5            1    Danielle Kelley             new@abc.com   \n",
       "\n",
       "             phone_number       creation_time        updated_time  \\\n",
       "0     +1-995-929-0153x419 2023-10-17 13:26:45 2023-10-17 15:00:36   \n",
       "1      819.773.6614x98003 2023-10-17 13:26:45 2023-10-17 13:26:45   \n",
       "2            374-953-1731 2023-10-17 13:26:45 2023-10-17 13:26:45   \n",
       "3  001-831-460-2158x30256 2023-10-17 13:26:45 2023-10-17 13:26:45   \n",
       "4        909-420-8608x930 2023-10-17 13:26:45 2023-10-17 13:26:45   \n",
       "5     +1-995-929-0153x419 2023-10-17 13:26:45 2023-10-17 15:56:27   \n",
       "\n",
       "  partition_col  \n",
       "0    2023-10-17  \n",
       "1    2023-10-17  \n",
       "2    2023-10-17  \n",
       "3    2023-10-17  \n",
       "4    2023-10-17  \n",
       "5    2023-10-17  "
      ]
     },
     "execution_count": 76,
     "metadata": {},
     "output_type": "execute_result"
    }
   ],
   "source": [
    "df2 = pd.read_parquet('s3://testbb-123/etl-output/demo-1-daily/')\n",
    "df2"
   ]
  },
  {
   "cell_type": "code",
   "execution_count": 77,
   "id": "cd95be23-3f9d-45a8-8ac6-ee515036dbd3",
   "metadata": {
    "tags": []
   },
   "outputs": [
    {
     "data": {
      "text/html": [
       "<div>\n",
       "<style scoped>\n",
       "    .dataframe tbody tr th:only-of-type {\n",
       "        vertical-align: middle;\n",
       "    }\n",
       "\n",
       "    .dataframe tbody tr th {\n",
       "        vertical-align: top;\n",
       "    }\n",
       "\n",
       "    .dataframe thead th {\n",
       "        text-align: right;\n",
       "    }\n",
       "</style>\n",
       "<table border=\"1\" class=\"dataframe\">\n",
       "  <thead>\n",
       "    <tr style=\"text-align: right;\">\n",
       "      <th></th>\n",
       "      <th>customer_id</th>\n",
       "      <th>customer_name</th>\n",
       "      <th>email_address</th>\n",
       "      <th>phone_number</th>\n",
       "      <th>creation_time</th>\n",
       "      <th>updated_time</th>\n",
       "      <th>partition_col</th>\n",
       "    </tr>\n",
       "  </thead>\n",
       "  <tbody>\n",
       "    <tr>\n",
       "      <th>0</th>\n",
       "      <td>1</td>\n",
       "      <td>Danielle Kelley</td>\n",
       "      <td>xyz@abc.com</td>\n",
       "      <td>+1-995-929-0153x419</td>\n",
       "      <td>2023-10-17 13:26:45</td>\n",
       "      <td>2023-10-17 15:00:36</td>\n",
       "      <td>2023-10-17</td>\n",
       "    </tr>\n",
       "    <tr>\n",
       "      <th>5</th>\n",
       "      <td>1</td>\n",
       "      <td>Danielle Kelley</td>\n",
       "      <td>new@abc.com</td>\n",
       "      <td>+1-995-929-0153x419</td>\n",
       "      <td>2023-10-17 13:26:45</td>\n",
       "      <td>2023-10-17 15:56:27</td>\n",
       "      <td>2023-10-17</td>\n",
       "    </tr>\n",
       "  </tbody>\n",
       "</table>\n",
       "</div>"
      ],
      "text/plain": [
       "   customer_id    customer_name email_address         phone_number  \\\n",
       "0            1  Danielle Kelley   xyz@abc.com  +1-995-929-0153x419   \n",
       "5            1  Danielle Kelley   new@abc.com  +1-995-929-0153x419   \n",
       "\n",
       "        creation_time        updated_time partition_col  \n",
       "0 2023-10-17 13:26:45 2023-10-17 15:00:36    2023-10-17  \n",
       "5 2023-10-17 13:26:45 2023-10-17 15:56:27    2023-10-17  "
      ]
     },
     "execution_count": 77,
     "metadata": {},
     "output_type": "execute_result"
    }
   ],
   "source": [
    "options = [1] \n",
    "\n",
    "# selecting rows based on condition \n",
    "rslt_df2 = df2[df2['customer_id'].isin(options)] \n",
    "\n",
    "#print('\\nResult dataframe :\\n',rslt_df)\n",
    "rslt_df2"
   ]
  },
  {
   "cell_type": "code",
   "execution_count": null,
   "id": "4dff2bc2-67b3-4b5e-9190-389894c71bf0",
   "metadata": {},
   "outputs": [],
   "source": []
  },
  {
   "cell_type": "code",
   "execution_count": 70,
   "id": "1d2e5f50-a985-47a7-9244-ac0212d4070f",
   "metadata": {
    "tags": []
   },
   "outputs": [
    {
     "name": "stdout",
     "output_type": "stream",
     "text": [
      "{\n",
      "    \"JobBookmarkEntry\": {\n",
      "        \"JobName\": \"demo-1-daily\",\n",
      "        \"Version\": 18,\n",
      "        \"Run\": 11,\n",
      "        \"Attempt\": 0,\n",
      "        \"JobBookmark\": \"\"\n",
      "    }\n",
      "}\n"
     ]
    }
   ],
   "source": [
    "!aws glue reset-job-bookmark --job-name demo-1-daily"
   ]
  },
  {
   "cell_type": "code",
   "execution_count": 71,
   "id": "01733cf6-db8c-452c-90d0-d9f0c10872cf",
   "metadata": {
    "tags": []
   },
   "outputs": [
    {
     "name": "stdout",
     "output_type": "stream",
     "text": [
      "delete: s3://testbb-123/etl-output/demo-1-daily/partition_col=2023-10-17/run-S3bucket_node2-7-part-block-0-0-r-00002-snappy.parquet\n",
      "delete: s3://testbb-123/etl-output/demo-1-daily/partition_col=2023-10-17/run-S3bucket_node2-7-part-block-0-0-r-00001-snappy.parquet\n",
      "delete: s3://testbb-123/etl-output/demo-1-daily/partition_col=2023-10-17/run-S3bucket_node2-7-part-block-0-0-r-00003-snappy.parquet\n",
      "delete: s3://testbb-123/etl-output/demo-1-daily/partition_col=2023-10-17/run-S3bucket_node2-7-part-block-0-0-r-00004-snappy.parquet\n",
      "delete: s3://testbb-123/etl-output/demo-1-daily/partition_col=2023-10-17/run-S3bucket_node2-7-part-block-0-0-r-00005-snappy.parquet\n"
     ]
    }
   ],
   "source": [
    "!aws s3 rm s3://testbb-123/etl-output/demo-1-daily/ --recursive"
   ]
  },
  {
   "cell_type": "code",
   "execution_count": 72,
   "id": "c0604e1b-7a1f-420a-9dda-b252bd006dab",
   "metadata": {
    "tags": []
   },
   "outputs": [],
   "source": [
    "!aws glue delete-table --database-name gluedb --name demo-1-daily"
   ]
  },
  {
   "cell_type": "code",
   "execution_count": 78,
   "id": "138513af-4b31-483c-aaf9-c76f999f2f37",
   "metadata": {
    "tags": []
   },
   "outputs": [],
   "source": [
    "!mkdir glue-job"
   ]
  },
  {
   "cell_type": "code",
   "execution_count": 80,
   "id": "c9c4a6c2-8c54-4554-b932-7cfdfb79695d",
   "metadata": {
    "tags": []
   },
   "outputs": [
    {
     "name": "stdout",
     "output_type": "stream",
     "text": [
      "fatal error: An error occurred (404) when calling the HeadObject operation: Key \"scripts\" does not exist\n"
     ]
    }
   ],
   "source": [
    "!aws s3 cp s3://aws-glue-assets-590116326836-us-east-1/scripts/ "
   ]
  },
  {
   "cell_type": "code",
   "execution_count": null,
   "id": "3d48f2e3-3722-4f04-9167-400b55c6b4d4",
   "metadata": {},
   "outputs": [],
   "source": []
  }
 ],
 "metadata": {
  "availableInstances": [
   {
    "_defaultOrder": 0,
    "_isFastLaunch": true,
    "category": "General purpose",
    "gpuNum": 0,
    "hideHardwareSpecs": false,
    "memoryGiB": 4,
    "name": "ml.t3.medium",
    "vcpuNum": 2
   },
   {
    "_defaultOrder": 1,
    "_isFastLaunch": false,
    "category": "General purpose",
    "gpuNum": 0,
    "hideHardwareSpecs": false,
    "memoryGiB": 8,
    "name": "ml.t3.large",
    "vcpuNum": 2
   },
   {
    "_defaultOrder": 2,
    "_isFastLaunch": false,
    "category": "General purpose",
    "gpuNum": 0,
    "hideHardwareSpecs": false,
    "memoryGiB": 16,
    "name": "ml.t3.xlarge",
    "vcpuNum": 4
   },
   {
    "_defaultOrder": 3,
    "_isFastLaunch": false,
    "category": "General purpose",
    "gpuNum": 0,
    "hideHardwareSpecs": false,
    "memoryGiB": 32,
    "name": "ml.t3.2xlarge",
    "vcpuNum": 8
   },
   {
    "_defaultOrder": 4,
    "_isFastLaunch": true,
    "category": "General purpose",
    "gpuNum": 0,
    "hideHardwareSpecs": false,
    "memoryGiB": 8,
    "name": "ml.m5.large",
    "vcpuNum": 2
   },
   {
    "_defaultOrder": 5,
    "_isFastLaunch": false,
    "category": "General purpose",
    "gpuNum": 0,
    "hideHardwareSpecs": false,
    "memoryGiB": 16,
    "name": "ml.m5.xlarge",
    "vcpuNum": 4
   },
   {
    "_defaultOrder": 6,
    "_isFastLaunch": false,
    "category": "General purpose",
    "gpuNum": 0,
    "hideHardwareSpecs": false,
    "memoryGiB": 32,
    "name": "ml.m5.2xlarge",
    "vcpuNum": 8
   },
   {
    "_defaultOrder": 7,
    "_isFastLaunch": false,
    "category": "General purpose",
    "gpuNum": 0,
    "hideHardwareSpecs": false,
    "memoryGiB": 64,
    "name": "ml.m5.4xlarge",
    "vcpuNum": 16
   },
   {
    "_defaultOrder": 8,
    "_isFastLaunch": false,
    "category": "General purpose",
    "gpuNum": 0,
    "hideHardwareSpecs": false,
    "memoryGiB": 128,
    "name": "ml.m5.8xlarge",
    "vcpuNum": 32
   },
   {
    "_defaultOrder": 9,
    "_isFastLaunch": false,
    "category": "General purpose",
    "gpuNum": 0,
    "hideHardwareSpecs": false,
    "memoryGiB": 192,
    "name": "ml.m5.12xlarge",
    "vcpuNum": 48
   },
   {
    "_defaultOrder": 10,
    "_isFastLaunch": false,
    "category": "General purpose",
    "gpuNum": 0,
    "hideHardwareSpecs": false,
    "memoryGiB": 256,
    "name": "ml.m5.16xlarge",
    "vcpuNum": 64
   },
   {
    "_defaultOrder": 11,
    "_isFastLaunch": false,
    "category": "General purpose",
    "gpuNum": 0,
    "hideHardwareSpecs": false,
    "memoryGiB": 384,
    "name": "ml.m5.24xlarge",
    "vcpuNum": 96
   },
   {
    "_defaultOrder": 12,
    "_isFastLaunch": false,
    "category": "General purpose",
    "gpuNum": 0,
    "hideHardwareSpecs": false,
    "memoryGiB": 8,
    "name": "ml.m5d.large",
    "vcpuNum": 2
   },
   {
    "_defaultOrder": 13,
    "_isFastLaunch": false,
    "category": "General purpose",
    "gpuNum": 0,
    "hideHardwareSpecs": false,
    "memoryGiB": 16,
    "name": "ml.m5d.xlarge",
    "vcpuNum": 4
   },
   {
    "_defaultOrder": 14,
    "_isFastLaunch": false,
    "category": "General purpose",
    "gpuNum": 0,
    "hideHardwareSpecs": false,
    "memoryGiB": 32,
    "name": "ml.m5d.2xlarge",
    "vcpuNum": 8
   },
   {
    "_defaultOrder": 15,
    "_isFastLaunch": false,
    "category": "General purpose",
    "gpuNum": 0,
    "hideHardwareSpecs": false,
    "memoryGiB": 64,
    "name": "ml.m5d.4xlarge",
    "vcpuNum": 16
   },
   {
    "_defaultOrder": 16,
    "_isFastLaunch": false,
    "category": "General purpose",
    "gpuNum": 0,
    "hideHardwareSpecs": false,
    "memoryGiB": 128,
    "name": "ml.m5d.8xlarge",
    "vcpuNum": 32
   },
   {
    "_defaultOrder": 17,
    "_isFastLaunch": false,
    "category": "General purpose",
    "gpuNum": 0,
    "hideHardwareSpecs": false,
    "memoryGiB": 192,
    "name": "ml.m5d.12xlarge",
    "vcpuNum": 48
   },
   {
    "_defaultOrder": 18,
    "_isFastLaunch": false,
    "category": "General purpose",
    "gpuNum": 0,
    "hideHardwareSpecs": false,
    "memoryGiB": 256,
    "name": "ml.m5d.16xlarge",
    "vcpuNum": 64
   },
   {
    "_defaultOrder": 19,
    "_isFastLaunch": false,
    "category": "General purpose",
    "gpuNum": 0,
    "hideHardwareSpecs": false,
    "memoryGiB": 384,
    "name": "ml.m5d.24xlarge",
    "vcpuNum": 96
   },
   {
    "_defaultOrder": 20,
    "_isFastLaunch": false,
    "category": "General purpose",
    "gpuNum": 0,
    "hideHardwareSpecs": true,
    "memoryGiB": 0,
    "name": "ml.geospatial.interactive",
    "supportedImageNames": [
     "sagemaker-geospatial-v1-0"
    ],
    "vcpuNum": 0
   },
   {
    "_defaultOrder": 21,
    "_isFastLaunch": true,
    "category": "Compute optimized",
    "gpuNum": 0,
    "hideHardwareSpecs": false,
    "memoryGiB": 4,
    "name": "ml.c5.large",
    "vcpuNum": 2
   },
   {
    "_defaultOrder": 22,
    "_isFastLaunch": false,
    "category": "Compute optimized",
    "gpuNum": 0,
    "hideHardwareSpecs": false,
    "memoryGiB": 8,
    "name": "ml.c5.xlarge",
    "vcpuNum": 4
   },
   {
    "_defaultOrder": 23,
    "_isFastLaunch": false,
    "category": "Compute optimized",
    "gpuNum": 0,
    "hideHardwareSpecs": false,
    "memoryGiB": 16,
    "name": "ml.c5.2xlarge",
    "vcpuNum": 8
   },
   {
    "_defaultOrder": 24,
    "_isFastLaunch": false,
    "category": "Compute optimized",
    "gpuNum": 0,
    "hideHardwareSpecs": false,
    "memoryGiB": 32,
    "name": "ml.c5.4xlarge",
    "vcpuNum": 16
   },
   {
    "_defaultOrder": 25,
    "_isFastLaunch": false,
    "category": "Compute optimized",
    "gpuNum": 0,
    "hideHardwareSpecs": false,
    "memoryGiB": 72,
    "name": "ml.c5.9xlarge",
    "vcpuNum": 36
   },
   {
    "_defaultOrder": 26,
    "_isFastLaunch": false,
    "category": "Compute optimized",
    "gpuNum": 0,
    "hideHardwareSpecs": false,
    "memoryGiB": 96,
    "name": "ml.c5.12xlarge",
    "vcpuNum": 48
   },
   {
    "_defaultOrder": 27,
    "_isFastLaunch": false,
    "category": "Compute optimized",
    "gpuNum": 0,
    "hideHardwareSpecs": false,
    "memoryGiB": 144,
    "name": "ml.c5.18xlarge",
    "vcpuNum": 72
   },
   {
    "_defaultOrder": 28,
    "_isFastLaunch": false,
    "category": "Compute optimized",
    "gpuNum": 0,
    "hideHardwareSpecs": false,
    "memoryGiB": 192,
    "name": "ml.c5.24xlarge",
    "vcpuNum": 96
   },
   {
    "_defaultOrder": 29,
    "_isFastLaunch": true,
    "category": "Accelerated computing",
    "gpuNum": 1,
    "hideHardwareSpecs": false,
    "memoryGiB": 16,
    "name": "ml.g4dn.xlarge",
    "vcpuNum": 4
   },
   {
    "_defaultOrder": 30,
    "_isFastLaunch": false,
    "category": "Accelerated computing",
    "gpuNum": 1,
    "hideHardwareSpecs": false,
    "memoryGiB": 32,
    "name": "ml.g4dn.2xlarge",
    "vcpuNum": 8
   },
   {
    "_defaultOrder": 31,
    "_isFastLaunch": false,
    "category": "Accelerated computing",
    "gpuNum": 1,
    "hideHardwareSpecs": false,
    "memoryGiB": 64,
    "name": "ml.g4dn.4xlarge",
    "vcpuNum": 16
   },
   {
    "_defaultOrder": 32,
    "_isFastLaunch": false,
    "category": "Accelerated computing",
    "gpuNum": 1,
    "hideHardwareSpecs": false,
    "memoryGiB": 128,
    "name": "ml.g4dn.8xlarge",
    "vcpuNum": 32
   },
   {
    "_defaultOrder": 33,
    "_isFastLaunch": false,
    "category": "Accelerated computing",
    "gpuNum": 4,
    "hideHardwareSpecs": false,
    "memoryGiB": 192,
    "name": "ml.g4dn.12xlarge",
    "vcpuNum": 48
   },
   {
    "_defaultOrder": 34,
    "_isFastLaunch": false,
    "category": "Accelerated computing",
    "gpuNum": 1,
    "hideHardwareSpecs": false,
    "memoryGiB": 256,
    "name": "ml.g4dn.16xlarge",
    "vcpuNum": 64
   },
   {
    "_defaultOrder": 35,
    "_isFastLaunch": false,
    "category": "Accelerated computing",
    "gpuNum": 1,
    "hideHardwareSpecs": false,
    "memoryGiB": 61,
    "name": "ml.p3.2xlarge",
    "vcpuNum": 8
   },
   {
    "_defaultOrder": 36,
    "_isFastLaunch": false,
    "category": "Accelerated computing",
    "gpuNum": 4,
    "hideHardwareSpecs": false,
    "memoryGiB": 244,
    "name": "ml.p3.8xlarge",
    "vcpuNum": 32
   },
   {
    "_defaultOrder": 37,
    "_isFastLaunch": false,
    "category": "Accelerated computing",
    "gpuNum": 8,
    "hideHardwareSpecs": false,
    "memoryGiB": 488,
    "name": "ml.p3.16xlarge",
    "vcpuNum": 64
   },
   {
    "_defaultOrder": 38,
    "_isFastLaunch": false,
    "category": "Accelerated computing",
    "gpuNum": 8,
    "hideHardwareSpecs": false,
    "memoryGiB": 768,
    "name": "ml.p3dn.24xlarge",
    "vcpuNum": 96
   },
   {
    "_defaultOrder": 39,
    "_isFastLaunch": false,
    "category": "Memory Optimized",
    "gpuNum": 0,
    "hideHardwareSpecs": false,
    "memoryGiB": 16,
    "name": "ml.r5.large",
    "vcpuNum": 2
   },
   {
    "_defaultOrder": 40,
    "_isFastLaunch": false,
    "category": "Memory Optimized",
    "gpuNum": 0,
    "hideHardwareSpecs": false,
    "memoryGiB": 32,
    "name": "ml.r5.xlarge",
    "vcpuNum": 4
   },
   {
    "_defaultOrder": 41,
    "_isFastLaunch": false,
    "category": "Memory Optimized",
    "gpuNum": 0,
    "hideHardwareSpecs": false,
    "memoryGiB": 64,
    "name": "ml.r5.2xlarge",
    "vcpuNum": 8
   },
   {
    "_defaultOrder": 42,
    "_isFastLaunch": false,
    "category": "Memory Optimized",
    "gpuNum": 0,
    "hideHardwareSpecs": false,
    "memoryGiB": 128,
    "name": "ml.r5.4xlarge",
    "vcpuNum": 16
   },
   {
    "_defaultOrder": 43,
    "_isFastLaunch": false,
    "category": "Memory Optimized",
    "gpuNum": 0,
    "hideHardwareSpecs": false,
    "memoryGiB": 256,
    "name": "ml.r5.8xlarge",
    "vcpuNum": 32
   },
   {
    "_defaultOrder": 44,
    "_isFastLaunch": false,
    "category": "Memory Optimized",
    "gpuNum": 0,
    "hideHardwareSpecs": false,
    "memoryGiB": 384,
    "name": "ml.r5.12xlarge",
    "vcpuNum": 48
   },
   {
    "_defaultOrder": 45,
    "_isFastLaunch": false,
    "category": "Memory Optimized",
    "gpuNum": 0,
    "hideHardwareSpecs": false,
    "memoryGiB": 512,
    "name": "ml.r5.16xlarge",
    "vcpuNum": 64
   },
   {
    "_defaultOrder": 46,
    "_isFastLaunch": false,
    "category": "Memory Optimized",
    "gpuNum": 0,
    "hideHardwareSpecs": false,
    "memoryGiB": 768,
    "name": "ml.r5.24xlarge",
    "vcpuNum": 96
   },
   {
    "_defaultOrder": 47,
    "_isFastLaunch": false,
    "category": "Accelerated computing",
    "gpuNum": 1,
    "hideHardwareSpecs": false,
    "memoryGiB": 16,
    "name": "ml.g5.xlarge",
    "vcpuNum": 4
   },
   {
    "_defaultOrder": 48,
    "_isFastLaunch": false,
    "category": "Accelerated computing",
    "gpuNum": 1,
    "hideHardwareSpecs": false,
    "memoryGiB": 32,
    "name": "ml.g5.2xlarge",
    "vcpuNum": 8
   },
   {
    "_defaultOrder": 49,
    "_isFastLaunch": false,
    "category": "Accelerated computing",
    "gpuNum": 1,
    "hideHardwareSpecs": false,
    "memoryGiB": 64,
    "name": "ml.g5.4xlarge",
    "vcpuNum": 16
   },
   {
    "_defaultOrder": 50,
    "_isFastLaunch": false,
    "category": "Accelerated computing",
    "gpuNum": 1,
    "hideHardwareSpecs": false,
    "memoryGiB": 128,
    "name": "ml.g5.8xlarge",
    "vcpuNum": 32
   },
   {
    "_defaultOrder": 51,
    "_isFastLaunch": false,
    "category": "Accelerated computing",
    "gpuNum": 1,
    "hideHardwareSpecs": false,
    "memoryGiB": 256,
    "name": "ml.g5.16xlarge",
    "vcpuNum": 64
   },
   {
    "_defaultOrder": 52,
    "_isFastLaunch": false,
    "category": "Accelerated computing",
    "gpuNum": 4,
    "hideHardwareSpecs": false,
    "memoryGiB": 192,
    "name": "ml.g5.12xlarge",
    "vcpuNum": 48
   },
   {
    "_defaultOrder": 53,
    "_isFastLaunch": false,
    "category": "Accelerated computing",
    "gpuNum": 4,
    "hideHardwareSpecs": false,
    "memoryGiB": 384,
    "name": "ml.g5.24xlarge",
    "vcpuNum": 96
   },
   {
    "_defaultOrder": 54,
    "_isFastLaunch": false,
    "category": "Accelerated computing",
    "gpuNum": 8,
    "hideHardwareSpecs": false,
    "memoryGiB": 768,
    "name": "ml.g5.48xlarge",
    "vcpuNum": 192
   },
   {
    "_defaultOrder": 55,
    "_isFastLaunch": false,
    "category": "Accelerated computing",
    "gpuNum": 8,
    "hideHardwareSpecs": false,
    "memoryGiB": 1152,
    "name": "ml.p4d.24xlarge",
    "vcpuNum": 96
   },
   {
    "_defaultOrder": 56,
    "_isFastLaunch": false,
    "category": "Accelerated computing",
    "gpuNum": 8,
    "hideHardwareSpecs": false,
    "memoryGiB": 1152,
    "name": "ml.p4de.24xlarge",
    "vcpuNum": 96
   }
  ],
  "instance_type": "ml.t3.medium",
  "kernelspec": {
   "display_name": "Python 3 (Data Science 3.0)",
   "language": "python",
   "name": "python3__SAGEMAKER_INTERNAL__arn:aws:sagemaker:us-east-1:081325390199:image/sagemaker-data-science-310-v1"
  },
  "language_info": {
   "codemirror_mode": {
    "name": "ipython",
    "version": 3
   },
   "file_extension": ".py",
   "mimetype": "text/x-python",
   "name": "python",
   "nbconvert_exporter": "python",
   "pygments_lexer": "ipython3",
   "version": "3.10.6"
  }
 },
 "nbformat": 4,
 "nbformat_minor": 5
}
