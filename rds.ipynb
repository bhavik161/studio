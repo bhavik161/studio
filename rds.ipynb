{
 "cells": [
  {
   "cell_type": "code",
   "execution_count": 2,
   "id": "85740d19-ac5d-4d9b-b16a-0307182d60ea",
   "metadata": {
    "tags": []
   },
   "outputs": [
    {
     "name": "stdout",
     "output_type": "stream",
     "text": [
      "Collecting psycopg2-binary\n",
      "  Obtaining dependency information for psycopg2-binary from https://files.pythonhosted.org/packages/bc/0d/486e3fa27f39a00168abfcf14a3d8444f437f4b755cc34316da1124f293d/psycopg2_binary-2.9.9-cp310-cp310-manylinux_2_17_x86_64.manylinux2014_x86_64.whl.metadata\n",
      "  Downloading psycopg2_binary-2.9.9-cp310-cp310-manylinux_2_17_x86_64.manylinux2014_x86_64.whl.metadata (4.4 kB)\n",
      "Downloading psycopg2_binary-2.9.9-cp310-cp310-manylinux_2_17_x86_64.manylinux2014_x86_64.whl (3.0 MB)\n",
      "\u001b[2K   \u001b[90m━━━━━━━━━━━━━━━━━━━━━━━━━━━━━━━━━━━━━━━━\u001b[0m \u001b[32m3.0/3.0 MB\u001b[0m \u001b[31m19.0 MB/s\u001b[0m eta \u001b[36m0:00:00\u001b[0m00:01\u001b[0m00:01\u001b[0m\n",
      "\u001b[?25hInstalling collected packages: psycopg2-binary\n",
      "Successfully installed psycopg2-binary-2.9.9\n",
      "\u001b[33mWARNING: Running pip as the 'root' user can result in broken permissions and conflicting behaviour with the system package manager. It is recommended to use a virtual environment instead: https://pip.pypa.io/warnings/venv\u001b[0m\u001b[33m\n",
      "\u001b[0m\n",
      "\u001b[1m[\u001b[0m\u001b[34;49mnotice\u001b[0m\u001b[1;39;49m]\u001b[0m\u001b[39;49m A new release of pip is available: \u001b[0m\u001b[31;49m23.2.1\u001b[0m\u001b[39;49m -> \u001b[0m\u001b[32;49m23.3\u001b[0m\n",
      "\u001b[1m[\u001b[0m\u001b[34;49mnotice\u001b[0m\u001b[1;39;49m]\u001b[0m\u001b[39;49m To update, run: \u001b[0m\u001b[32;49mpip install --upgrade pip\u001b[0m\n"
     ]
    }
   ],
   "source": [
    "!pip install psycopg2-binary"
   ]
  },
  {
   "cell_type": "code",
   "execution_count": 3,
   "id": "1fde392a-0150-4850-8cdd-2952c00c6144",
   "metadata": {
    "tags": []
   },
   "outputs": [],
   "source": [
    "import psycopg2 as pg"
   ]
  },
  {
   "cell_type": "code",
   "execution_count": 4,
   "id": "2fc9825f-e3e5-4b53-b84e-b1505c2dc804",
   "metadata": {
    "tags": []
   },
   "outputs": [
    {
     "ename": "SyntaxError",
     "evalue": "invalid syntax (2917335226.py, line 1)",
     "output_type": "error",
     "traceback": [
      "\u001b[0;36m  Cell \u001b[0;32mIn[4], line 1\u001b[0;36m\u001b[0m\n\u001b[0;31m    - *dbname*: the database name\u001b[0m\n\u001b[0m      ^\u001b[0m\n\u001b[0;31mSyntaxError\u001b[0m\u001b[0;31m:\u001b[0m invalid syntax\n"
     ]
    }
   ],
   "source": [
    "    - *dbname*: the database name\n",
    "    - *database*: the database name (only as keyword argument)\n",
    "    - *user*: user name used to authenticate\n",
    "    - *password*: password used to authenticate\n",
    "    - *host*: database host address (defaults to UNIX socket if not provided)\n",
    "    - *port*: connection port number (defaults to 5432 if not provided)"
   ]
  },
  {
   "cell_type": "code",
   "execution_count": 5,
   "id": "311562d0-79d7-4231-b74d-2bc68d28bfed",
   "metadata": {
    "tags": []
   },
   "outputs": [
    {
     "ename": "SyntaxError",
     "evalue": "invalid decimal literal (280278825.py, line 1)",
     "output_type": "error",
     "traceback": [
      "\u001b[0;36m  Cell \u001b[0;32mIn[5], line 1\u001b[0;36m\u001b[0m\n\u001b[0;31m    jdbc:postgresql://database-2.cluster-cy1raopcpjus.us-east-1.rds.amazonaws.com:5432/db1\u001b[0m\n\u001b[0m                                ^\u001b[0m\n\u001b[0;31mSyntaxError\u001b[0m\u001b[0;31m:\u001b[0m invalid decimal literal\n"
     ]
    }
   ],
   "source": [
    "jdbc:postgresql://database-2.cluster-cy1raopcpjus.us-east-1.rds.amazonaws.com:5432/db1"
   ]
  },
  {
   "cell_type": "code",
   "execution_count": 45,
   "id": "ba30095a-a6e8-4266-950d-c82511bbe747",
   "metadata": {
    "tags": []
   },
   "outputs": [],
   "source": [
    "import getpass\n",
    "user = 'postgres'\n",
    "dbname = 'db1'\n",
    "host = 'database-1.c0oohyxv9j5t.us-east-1.rds.amazonaws.com'\n",
    "port = '5432'\n",
    "#password=getpass.getpass()\n",
    "password = 'Password123'"
   ]
  },
  {
   "cell_type": "code",
   "execution_count": 46,
   "id": "75316d48-65d5-42e7-9cc4-5646615c8200",
   "metadata": {
    "tags": []
   },
   "outputs": [],
   "source": [
    "conn = pg.connect(dbname=dbname,host=host, port=port,user=user,password=password)\n",
    "cursor = conn.cursor()"
   ]
  },
  {
   "cell_type": "code",
   "execution_count": 47,
   "id": "04e1ef85-5ae9-425c-b68d-0e8075c46d79",
   "metadata": {
    "tags": []
   },
   "outputs": [],
   "source": [
    " event_table_description = (\n",
    "        \"CREATE TABLE sport_event (\"\n",
    "        \"  event_id SERIAL PRIMARY KEY,\"\n",
    "        \"  sport_type VARCHAR(256) NOT NULL,\"\n",
    "        \"  start_date timestamp NOT NULL,\"\n",
    "        \"  location VARCHAR(256) NOT NULL\"\n",
    "       \n",
    "        \")\"\n",
    "    )"
   ]
  },
  {
   "cell_type": "code",
   "execution_count": 48,
   "id": "3eacdd3d-3a84-46a3-9c99-5cac42376611",
   "metadata": {
    "tags": []
   },
   "outputs": [],
   "source": [
    "#print(\"Creating table {}: \".format(\"sport_event\"), end='')\n",
    "cursor.execute(event_table_description)"
   ]
  },
  {
   "cell_type": "code",
   "execution_count": 49,
   "id": "bc06206c-5544-474a-8f82-994881ca691f",
   "metadata": {
    "tags": []
   },
   "outputs": [],
   "source": [
    "conn.commit()"
   ]
  },
  {
   "cell_type": "code",
   "execution_count": 50,
   "id": "125b34f8-cecf-4eaf-9d8a-8cce0ffadced",
   "metadata": {
    "tags": []
   },
   "outputs": [],
   "source": [
    " ticket_table_description = (\n",
    "        \"CREATE TABLE ticket (\"\n",
    "        \"  ticket_id SERIAL PRIMARY KEY,\"\n",
    "        \"  event_id INT NOT NULL,\"\n",
    "        \"  seat_level VARCHAR(256) NOT NULL,\"\n",
    "        \"  seat_location VARCHAR(256) NOT NULL,\"\n",
    "        \"  ticket_price INT NOT NULL,\"\n",
    "\n",
    "        \"  FOREIGN KEY (event_id) REFERENCES sport_event(event_id)\"\n",
    "        \")\"\n",
    "    )"
   ]
  },
  {
   "cell_type": "code",
   "execution_count": 51,
   "id": "ca698205-06b4-488a-b863-1a8814ebae88",
   "metadata": {
    "tags": []
   },
   "outputs": [],
   "source": [
    "cursor.execute(ticket_table_description)"
   ]
  },
  {
   "cell_type": "code",
   "execution_count": 52,
   "id": "f73654a7-2d6b-4f10-9ccf-c066d5d6694c",
   "metadata": {
    "tags": []
   },
   "outputs": [],
   "source": [
    "conn.commit()"
   ]
  },
  {
   "cell_type": "code",
   "execution_count": 53,
   "id": "850ceab9-89ef-4a0c-abc6-111815f29ccb",
   "metadata": {
    "tags": []
   },
   "outputs": [],
   "source": [
    "sql =\"\"\" SELECT *\n",
    "FROM pg_catalog.pg_tables\n",
    "WHERE schemaname != 'pg_catalog' AND \n",
    "    schemaname != 'information_schema';\"\"\""
   ]
  },
  {
   "cell_type": "code",
   "execution_count": 54,
   "id": "2d6d67b5-fe13-4055-8b07-6c44037981ea",
   "metadata": {
    "tags": []
   },
   "outputs": [],
   "source": [
    "cursor.execute(sql)"
   ]
  },
  {
   "cell_type": "code",
   "execution_count": 55,
   "id": "dd506aaa-4e58-4f2f-8e38-3cee7482f2a0",
   "metadata": {
    "tags": []
   },
   "outputs": [
    {
     "data": {
      "text/plain": [
       "[('public', 'sport_event', 'postgres', None, True, False, True, False),\n",
       " ('public', 'ticket', 'postgres', None, True, False, True, False)]"
      ]
     },
     "execution_count": 55,
     "metadata": {},
     "output_type": "execute_result"
    }
   ],
   "source": [
    "cursor.fetchall()"
   ]
  },
  {
   "cell_type": "code",
   "execution_count": 56,
   "id": "2866223f-2e04-4e11-a13a-49f78ab970bb",
   "metadata": {
    "tags": []
   },
   "outputs": [],
   "source": [
    "conn.commit()"
   ]
  },
  {
   "cell_type": "code",
   "execution_count": 57,
   "id": "872909bd-155c-4778-bf64-cdc044e61a6b",
   "metadata": {
    "tags": []
   },
   "outputs": [],
   "source": [
    "customer_table_description = (\n",
    "        \"CREATE TABLE customer (\"\n",
    "        \"  customer_id SERIAL PRIMARY KEY,\"\n",
    "        \"  customer_name VARCHAR(256) NOT NULL,\"\n",
    "        \"  email_address VARCHAR(256) NOT NULL,\"\n",
    "        \"  phone_number VARCHAR(256) NOT NULL\"\n",
    "      \n",
    "        \")\"\n",
    "    )"
   ]
  },
  {
   "cell_type": "code",
   "execution_count": 58,
   "id": "6d88a594-7287-4f22-83b7-ecbbc77d1eda",
   "metadata": {
    "tags": []
   },
   "outputs": [],
   "source": [
    "cursor.execute(customer_table_description)\n",
    "conn.commit()"
   ]
  },
  {
   "cell_type": "code",
   "execution_count": 59,
   "id": "4a52a8d9-2ea0-4f77-80ad-80a54706edb7",
   "metadata": {
    "tags": []
   },
   "outputs": [],
   "source": [
    " ticket_activity_table_description = (\n",
    "        \"CREATE TABLE ticket_activity (\"\n",
    "        \"  ticket_id INT NOT NULL,\"\n",
    "        \"  purchased_by INT NOT NULL,\"\n",
    "        \"  created_at timestamp NOT NULL,\"\n",
    "        \"  updated_at timestamp NOT NULL,\"\n",
    "        \"  PRIMARY KEY (ticket_id),\"\n",
    "        \"  FOREIGN KEY (ticket_id) REFERENCES ticket(ticket_id),\"\n",
    "        \"  FOREIGN KEY (purchased_by) REFERENCES customer(customer_id)\"\n",
    "        \")\"\n",
    "    )\n",
    "    \n",
    "cursor.execute(ticket_activity_table_description)\n",
    "conn.commit()"
   ]
  },
  {
   "cell_type": "code",
   "execution_count": 60,
   "id": "1bd01a25-7d79-4385-8dee-ecf346e278ec",
   "metadata": {
    "tags": []
   },
   "outputs": [],
   "source": [
    "sport_type_list = [\n",
    "    \"Baseball\",\n",
    "    \"Football\"\n",
    "]\n",
    "\n",
    "location_list = [\n",
    "    \"Seattle, US\",\n",
    "    \"New York, US\",\n",
    "    \"San Francisco, US\",\n",
    "    \"Los Angeles, US\",\n",
    "    \"Boston, US\",\n",
    "    \"Chicago, US\"\n",
    "]"
   ]
  },
  {
   "cell_type": "code",
   "execution_count": 61,
   "id": "0c1304fc-20fe-4de3-9e7a-9a08111aec23",
   "metadata": {
    "tags": []
   },
   "outputs": [],
   "source": [
    "def generate_seat_list(num):\n",
    "    seat_level_price = {\n",
    "        \"Standard\": 100,\n",
    "        \"Premium\": 300\n",
    "    }\n",
    "    list = []\n",
    "    for seat_level in seat_level_price.keys():\n",
    "        for i in range(num):\n",
    "            list.append((seat_level, f\"{seat_level[0]}-{i}\", seat_level_price[seat_level]))\n",
    "    return list"
   ]
  },
  {
   "cell_type": "code",
   "execution_count": 31,
   "id": "6b2f9b59-9337-45e3-81c4-50b694228cef",
   "metadata": {
    "collapsed": true,
    "jupyter": {
     "outputs_hidden": true
    },
    "tags": []
   },
   "outputs": [
    {
     "name": "stdout",
     "output_type": "stream",
     "text": [
      "Collecting faker\n",
      "  Obtaining dependency information for faker from https://files.pythonhosted.org/packages/9b/69/fc3c9c30d406655d00f9b5737f0a27f7ba89d8fff61c14d5ecd223acf211/Faker-19.10.0-py3-none-any.whl.metadata\n",
      "  Downloading Faker-19.10.0-py3-none-any.whl.metadata (15 kB)\n",
      "Requirement already satisfied: python-dateutil>=2.4 in /opt/conda/lib/python3.10/site-packages (from faker) (2.8.2)\n",
      "Requirement already satisfied: six>=1.5 in /opt/conda/lib/python3.10/site-packages (from python-dateutil>=2.4->faker) (1.16.0)\n",
      "Downloading Faker-19.10.0-py3-none-any.whl (1.7 MB)\n",
      "\u001b[2K   \u001b[90m━━━━━━━━━━━━━━━━━━━━━━━━━━━━━━━━━━━━━━━━\u001b[0m \u001b[32m1.7/1.7 MB\u001b[0m \u001b[31m14.6 MB/s\u001b[0m eta \u001b[36m0:00:00\u001b[0m00:01\u001b[0m\n",
      "\u001b[?25hInstalling collected packages: faker\n",
      "Successfully installed faker-19.10.0\n",
      "\u001b[33mWARNING: Running pip as the 'root' user can result in broken permissions and conflicting behaviour with the system package manager. It is recommended to use a virtual environment instead: https://pip.pypa.io/warnings/venv\u001b[0m\u001b[33m\n",
      "\u001b[0m\n",
      "\u001b[1m[\u001b[0m\u001b[34;49mnotice\u001b[0m\u001b[1;39;49m]\u001b[0m\u001b[39;49m A new release of pip is available: \u001b[0m\u001b[31;49m23.2.1\u001b[0m\u001b[39;49m -> \u001b[0m\u001b[32;49m23.3\u001b[0m\n",
      "\u001b[1m[\u001b[0m\u001b[34;49mnotice\u001b[0m\u001b[1;39;49m]\u001b[0m\u001b[39;49m To update, run: \u001b[0m\u001b[32;49mpip install --upgrade pip\u001b[0m\n"
     ]
    }
   ],
   "source": [
    "!pip install faker"
   ]
  },
  {
   "cell_type": "code",
   "execution_count": 62,
   "id": "2db9433d-267a-4d30-bddd-ac7b5bfd1120",
   "metadata": {
    "tags": []
   },
   "outputs": [],
   "source": [
    "import sys\n",
    "import random\n",
    "from faker import Faker\n",
    "from datetime import datetime, timedelta\n",
    "#import mysql.connector\n",
    "#from mysql.connector import errorcode\n",
    "#from awsglue.utils import getResolvedOptions"
   ]
  },
  {
   "cell_type": "code",
   "execution_count": 63,
   "id": "9e73b98c-e640-460a-ac5a-546b79a6dae0",
   "metadata": {
    "tags": []
   },
   "outputs": [],
   "source": [
    "\n",
    "\n",
    "def initialize_data(cursor, connection):\n",
    "    today = datetime.today()\n",
    "\n",
    "    try:\n",
    "        print(\"Initializing data in table `sport_event` and `ticket`:\", end='')\n",
    "        add_event = (\"INSERT INTO sport_event \"\n",
    "                     \"(sport_type, start_date, location) \"\n",
    "                     \"VALUES (%s, %s, %s)\")\n",
    "        for num in range(50):\n",
    "            future_date = (today + timedelta(days=random.randint(30,365))).date()\n",
    "            data_event = (random.choice(sport_type_list), future_date, random.choice(location_list))\n",
    "            cursor.execute(add_event, data_event)\n",
    "            latest_event_id = cursor.lastrowid+1\n",
    "\n",
    "            add_ticket = (\"INSERT INTO ticket \"\n",
    "                          \"(event_id, seat_level, seat_location, ticket_price) \"\n",
    "                          \"VALUES (%s, %s, %s, %s)\")\n",
    "            for seat_level, seat_location, ticket_price in generate_seat_list(100):\n",
    "                data_ticket = (latest_event_id, seat_level, seat_location, ticket_price)\n",
    "                cursor.execute(add_ticket, data_ticket)\n",
    "    except Exception as err:\n",
    "        print(err.msg)\n",
    "    else:\n",
    "        print(\"OK\")\n",
    "\n",
    "    try:\n",
    "        print(\"Ingesting data in table `customer`:\", end='')\n",
    "        add_customer = (\"INSERT INTO customer \"\n",
    "                        \"(customer_name, email_address, phone_number) \"\n",
    "                        \"VALUES (%s, %s, %s)\")\n",
    "\n",
    "        for num in range(1000):\n",
    "            data_customer = (fake.name(), fake.ascii_email(), fake.phone_number())\n",
    "            cursor.execute(add_customer, data_customer)\n",
    "    except Exception as err:\n",
    "        print(err.msg)\n",
    "    else:\n",
    "        print(\"OK\")\n",
    "\n",
    "    connection.commit()\n",
    "\n"
   ]
  },
  {
   "cell_type": "code",
   "execution_count": 64,
   "id": "a8f53302-6b4a-4ac9-9ffe-3e73ef729852",
   "metadata": {
    "tags": []
   },
   "outputs": [],
   "source": [
    "\n",
    "def ingest_data(cursor, connection):\n",
    "    today = datetime.today()\n",
    "\n",
    "    print(\"Selecting one record from table {}\".format(\"ticket\"))\n",
    "    cursor.execute(\"SELECT ticket.ticket_id FROM ticket LEFT OUTER JOIN ticket_activity on ticket.ticket_id = ticket_activity.ticket_id WHERE ticket_activity.ticket_id is NULL ORDER BY RANDOM() LIMIT 1\")\n",
    "    rows = cursor.fetchall()\n",
    "    ticket_id = 0\n",
    "    for row in rows:\n",
    "        ticket_id = row[0]\n",
    "    print(f\"ticket id = {ticket_id}\")\n",
    "    print(\"Selecting one record from table {}\".format(\"customer\"))\n",
    "    cursor.execute(\"SELECT customer_id FROM customer ORDER BY RANDOM() LIMIT 1\")\n",
    "    rows = cursor.fetchall()\n",
    "    customer_id = 0\n",
    "    for row in rows:\n",
    "        customer_id = row[0]\n",
    "    print(f\"customer id = {customer_id}\")\n",
    "    print(\"Ingesting data into table {}: \".format(\"ticket_activity\"), end='')\n",
    "    add_ticket_activity = (\"INSERT INTO ticket_activity \"\n",
    "                 \"(ticket_id, purchased_by, created_at, updated_at) \"\n",
    "                 \"VALUES (%s, %s, %s, %s)\")\n",
    "\n",
    "    data_ticket_activity = (ticket_id, customer_id, today, today)\n",
    "    print(data_ticket_activity)\n",
    "    cursor.execute(add_ticket_activity, data_ticket_activity)\n",
    "\n",
    "    connection.commit()\n",
    "\n",
    "\n",
    "\n"
   ]
  },
  {
   "cell_type": "code",
   "execution_count": 35,
   "id": "f02c6c98-ca10-4016-8ecc-f124914b3ce0",
   "metadata": {
    "tags": []
   },
   "outputs": [],
   "source": [
    "fake = Faker()"
   ]
  },
  {
   "cell_type": "code",
   "execution_count": 65,
   "id": "3966f6fa-363d-41bf-bee7-632d2e8f11e2",
   "metadata": {
    "tags": []
   },
   "outputs": [
    {
     "name": "stdout",
     "output_type": "stream",
     "text": [
      "Initializing data in table `sport_event` and `ticket`:OK\n",
      "Ingesting data in table `customer`:OK\n"
     ]
    }
   ],
   "source": [
    "initialize_data(cursor,conn)"
   ]
  },
  {
   "cell_type": "code",
   "execution_count": 66,
   "id": "e19052bd-f5dd-40b9-91b1-14b1dc747253",
   "metadata": {
    "tags": []
   },
   "outputs": [
    {
     "name": "stdout",
     "output_type": "stream",
     "text": [
      "Selecting one record from table ticket\n",
      "ticket id = 3633\n",
      "Selecting one record from table customer\n",
      "customer id = 602\n",
      "Ingesting data into table ticket_activity: (3633, 602, datetime.datetime(2023, 10, 16, 19, 3, 40, 582861), datetime.datetime(2023, 10, 16, 19, 3, 40, 582861))\n",
      "Selecting one record from table ticket\n",
      "ticket id = 7976\n",
      "Selecting one record from table customer\n",
      "customer id = 528\n",
      "Ingesting data into table ticket_activity: (7976, 528, datetime.datetime(2023, 10, 16, 19, 3, 40, 590606), datetime.datetime(2023, 10, 16, 19, 3, 40, 590606))\n"
     ]
    }
   ],
   "source": [
    "i=0\n",
    "while i < 2:\n",
    "    ingest_data(cursor,conn)\n",
    "    i=i+1"
   ]
  },
  {
   "cell_type": "code",
   "execution_count": 68,
   "id": "44a26fc0-2f49-496f-8c47-a56ebda19e7d",
   "metadata": {
    "tags": []
   },
   "outputs": [],
   "source": [
    "conn.close()"
   ]
  },
  {
   "cell_type": "code",
   "execution_count": 76,
   "id": "baa8338d-2f51-435c-aa12-d09d9f1f06b4",
   "metadata": {
    "tags": []
   },
   "outputs": [],
   "source": [
    "conn = pg.connect(dbname=dbname,host=host, port=port,user=user,password=password)\n",
    "cursor = conn.cursor()"
   ]
  },
  {
   "cell_type": "code",
   "execution_count": 70,
   "id": "e7a41ce1-05a0-4331-9635-c7c263add563",
   "metadata": {
    "tags": []
   },
   "outputs": [],
   "source": [
    "sql=\"\"\"CREATE TABLE demo_json (\n",
    "\tcust_id int NOT NULL,\n",
    "\tinfo json NOT NULL,\n",
    "    created_at timestamp NOT NULL,\n",
    "          updated_at timestamp NOT NULL,\n",
    "         primary key (cust_id)\n",
    "    \n",
    ");\"\"\"\n",
    "\n",
    "cursor.execute(sql)\n",
    "conn.commit()"
   ]
  },
  {
   "cell_type": "code",
   "execution_count": 71,
   "id": "4b9a875d-5b2a-4e3a-9c59-25d8ceeced7d",
   "metadata": {
    "tags": []
   },
   "outputs": [],
   "source": [
    "today = datetime.today()\n",
    "add_customer = (\"INSERT INTO demo_json \"\n",
    "                        \"(cust_id,info,created_at,updated_at) \"\n",
    "                        \"VALUES (%s,%s, %s,%s)\")\n",
    "values='{ \"customer\": \"John Doe\", \"items\": {\"product\": \"Beer\",\"qty\": 6}}'\n",
    "data_customer = (10,values,today,today)\n",
    "cursor.execute(add_customer, data_customer)\n",
    "conn.commit()"
   ]
  },
  {
   "cell_type": "code",
   "execution_count": 73,
   "id": "07519263-4b37-4572-92b9-33d6c9b93326",
   "metadata": {
    "tags": []
   },
   "outputs": [
    {
     "ename": "DuplicateTable",
     "evalue": "relation \"demo_1\" already exists\n",
     "output_type": "error",
     "traceback": [
      "\u001b[0;31m---------------------------------------------------------------------------\u001b[0m",
      "\u001b[0;31mDuplicateTable\u001b[0m                            Traceback (most recent call last)",
      "Cell \u001b[0;32mIn[73], line 12\u001b[0m\n\u001b[1;32m      1\u001b[0m sql\u001b[38;5;241m=\u001b[39m\u001b[38;5;124m\"\"\"\u001b[39m\u001b[38;5;124mCREATE TABLE demo_1 (\u001b[39m\n\u001b[1;32m      2\u001b[0m \u001b[38;5;124m          cust_id int not null,\u001b[39m\n\u001b[1;32m      3\u001b[0m \u001b[38;5;124m          first_name VARCHAR(256) NOT NULL,\u001b[39m\n\u001b[0;32m   (...)\u001b[0m\n\u001b[1;32m      9\u001b[0m \u001b[38;5;124m      \u001b[39m\n\u001b[1;32m     10\u001b[0m \u001b[38;5;124m        )\u001b[39m\u001b[38;5;124m\"\"\"\u001b[39m\n\u001b[0;32m---> 12\u001b[0m \u001b[43mcursor\u001b[49m\u001b[38;5;241;43m.\u001b[39;49m\u001b[43mexecute\u001b[49m\u001b[43m(\u001b[49m\u001b[43msql\u001b[49m\u001b[43m)\u001b[49m\n\u001b[1;32m     13\u001b[0m conn\u001b[38;5;241m.\u001b[39mcommit()\n",
      "\u001b[0;31mDuplicateTable\u001b[0m: relation \"demo_1\" already exists\n"
     ]
    }
   ],
   "source": [
    "sql=\"\"\"CREATE TABLE demo_1 (\n",
    "          cust_id int not null,\n",
    "          first_name VARCHAR(256) NOT NULL,\n",
    "         last_name VARCHAR(256) NOT NULL,\n",
    "         created_at timestamp NOT NULL,\n",
    "          updated_at timestamp NOT NULL,\n",
    "         primary key (cust_id)\n",
    "        \n",
    "      \n",
    "        )\"\"\"\n",
    "\n",
    "cursor.execute(sql)\n",
    "conn.commit()"
   ]
  },
  {
   "cell_type": "code",
   "execution_count": 77,
   "id": "d52c9541-4b08-4313-b774-61ad58f7a1ca",
   "metadata": {
    "tags": []
   },
   "outputs": [],
   "source": [
    "today = datetime.today()\n",
    "add_customer = (\"update demo_1 set last_name = %s, updated_at = %s where cust_id = 10\")\n",
    "\n",
    "data_customer = (\"orange\",today)\n",
    "cursor.execute(add_customer, data_customer)\n",
    "conn.commit()"
   ]
  },
  {
   "cell_type": "code",
   "execution_count": 78,
   "id": "a0e17f04-1600-41b3-8976-fe8547b293b9",
   "metadata": {
    "tags": []
   },
   "outputs": [],
   "source": [
    "today = datetime.today()\n",
    "add_customer = (\"INSERT INTO demo_1 \"\n",
    "                        \"(cust_id,first_name, last_name,created_at,updated_at) \"\n",
    "                        \"VALUES (%s,%s, %s,%s,%s)\")\n",
    "\n",
    "data_customer = (10,\"purple\",\"pink\",today,today)\n",
    "cursor.execute(add_customer, data_customer)\n",
    "conn.commit()"
   ]
  },
  {
   "cell_type": "code",
   "execution_count": 79,
   "id": "2158c744-e17b-4c40-a07d-65b6c2316d6d",
   "metadata": {
    "collapsed": true,
    "jupyter": {
     "outputs_hidden": true
    },
    "tags": []
   },
   "outputs": [],
   "source": [
    "sql=\"\"\"CREATE TABLE demo (\n",
    "          id SERIAL PRIMARY KEY,\n",
    "          firstr_name VARCHAR(256) NOT NULL,\n",
    "         last_name VARCHAR(256) NOT NULL\n",
    "        \n",
    "      \n",
    "        )\"\"\"\n",
    "\n",
    "cursor.execute(sql)\n",
    "conn.commit()"
   ]
  },
  {
   "cell_type": "code",
   "execution_count": 80,
   "id": "51d8b444-874b-40d7-9ebd-8d9ca2da4c9a",
   "metadata": {
    "tags": []
   },
   "outputs": [],
   "source": [
    "add_customer = (\"INSERT INTO demo \"\n",
    "                        \"(firstr_name, last_name) \"\n",
    "                        \"VALUES (%s, %s)\")\n",
    "\n",
    "data_customer = (\"john\",\"doe\")\n",
    "cursor.execute(add_customer, data_customer)\n",
    "conn.commit()"
   ]
  },
  {
   "cell_type": "code",
   "execution_count": 81,
   "id": "dfb641fe-941e-4b96-840b-8ae086d2e7dd",
   "metadata": {
    "tags": []
   },
   "outputs": [],
   "source": [
    "cursor.execute(\"truncate table ticket_activity\")"
   ]
  },
  {
   "cell_type": "code",
   "execution_count": 23,
   "id": "ee6537da-7b0f-407b-ad11-14b02c77ec24",
   "metadata": {
    "tags": []
   },
   "outputs": [],
   "source": [
    "cursor.execute(\"drop table demo_1\")"
   ]
  },
  {
   "cell_type": "code",
   "execution_count": 117,
   "id": "90e9892f-14b3-4034-a4d0-0266b33cfb54",
   "metadata": {
    "tags": []
   },
   "outputs": [],
   "source": [
    "cursor.execute(\"drop table ticket\")"
   ]
  },
  {
   "cell_type": "code",
   "execution_count": 119,
   "id": "e8e9c7a3-ebfa-40f0-808e-6b8e2e5362a9",
   "metadata": {
    "tags": []
   },
   "outputs": [],
   "source": [
    "cursor.execute(\"drop table sport_event\")"
   ]
  },
  {
   "cell_type": "code",
   "execution_count": 24,
   "id": "e2603f78-c3a6-4ffc-b817-d260392d2d82",
   "metadata": {
    "tags": []
   },
   "outputs": [],
   "source": [
    "conn.commit()"
   ]
  },
  {
   "cell_type": "code",
   "execution_count": 14,
   "id": "d7b270e3-d110-4e12-b88f-9c020ae1b81f",
   "metadata": {
    "tags": []
   },
   "outputs": [],
   "source": [
    " today = datetime.today()"
   ]
  },
  {
   "cell_type": "code",
   "execution_count": null,
   "id": "ae51da32-e32d-4862-9c27-f54b49d90a0f",
   "metadata": {
    "tags": []
   },
   "outputs": [],
   "source": [
    "!aws s3 ls s3://aws-bigdata-blog/artifacts/"
   ]
  },
  {
   "cell_type": "code",
   "execution_count": 168,
   "id": "93cf1246-be86-402c-a794-61ef77d0a592",
   "metadata": {
    "tags": []
   },
   "outputs": [],
   "source": [
    "cursor.execute(\"\"\"SELECT sequence_schema, sequence_name \n",
    "FROM information_schema.sequences \n",
    "ORDER BY sequence_name \"\"\")"
   ]
  },
  {
   "cell_type": "code",
   "execution_count": 13,
   "id": "d555a0d7-7d9f-4639-8dd5-70c9d5a25f11",
   "metadata": {
    "tags": []
   },
   "outputs": [
    {
     "data": {
      "text/plain": [
       "[(8,)]"
      ]
     },
     "execution_count": 13,
     "metadata": {},
     "output_type": "execute_result"
    }
   ],
   "source": [
    "cursor.execute(\"\"\"select count(*) from ticket_activity\"\"\")\n",
    "cursor.fetchall()"
   ]
  },
  {
   "cell_type": "code",
   "execution_count": 189,
   "id": "ddababf9-b5a2-4aa0-b697-27b471447159",
   "metadata": {
    "tags": []
   },
   "outputs": [],
   "source": [
    "cursor.execute(\"\"\"ALTER SEQUENCE customer_customer_id_seq\n",
    "RESTART WITH 1;\"\"\")"
   ]
  },
  {
   "cell_type": "code",
   "execution_count": 190,
   "id": "75d9eb63-2af5-4e0e-846a-afa4c62a9d0b",
   "metadata": {
    "tags": []
   },
   "outputs": [],
   "source": [
    "cursor.execute(\"\"\"ALTER SEQUENCE sport_event_event_id_seq\n",
    "RESTART WITH 1;\"\"\")"
   ]
  },
  {
   "cell_type": "code",
   "execution_count": 191,
   "id": "86475792-0029-4a29-be0e-fc627817da3b",
   "metadata": {
    "tags": []
   },
   "outputs": [],
   "source": [
    "cursor.execute(\"\"\"ALTER SEQUENCE ticket_ticket_id_seq\n",
    "RESTART WITH 1;\"\"\")"
   ]
  },
  {
   "cell_type": "code",
   "execution_count": 192,
   "id": "b73bdb47-c40c-4db3-ade8-457113a3b5a6",
   "metadata": {
    "tags": []
   },
   "outputs": [],
   "source": [
    "conn.commit()"
   ]
  },
  {
   "cell_type": "code",
   "execution_count": null,
   "id": "06991740-8487-421d-b8d0-df47e4ea4ef3",
   "metadata": {},
   "outputs": [],
   "source": [
    "SELECT id, name, employee.deptno, deptname\n",
    "    FROM employee INNER JOIN department ON employee.deptno = department.deptno;"
   ]
  },
  {
   "cell_type": "code",
   "execution_count": null,
   "id": "c7650272-7e53-4273-8ada-fcf945482357",
   "metadata": {},
   "outputs": [],
   "source": [
    "select ticketactivity.ticket_id,purchased_by, created_at , updated_at ,event_id,seat_level,seat_location,ticket_price\n",
    "               from ticketactivity inner join ticket on ticketactivity.ticket_id=ticket.ticket_id"
   ]
  },
  {
   "cell_type": "code",
   "execution_count": null,
   "id": "d4a46c9b-fa82-4d98-a83e-3a37a09db587",
   "metadata": {},
   "outputs": [],
   "source": [
    "select *  from ta inner join cu on ta.purchaed_by=cu.customer_id"
   ]
  },
  {
   "cell_type": "code",
   "execution_count": 38,
   "id": "79dbd301-9435-4fd4-b619-931286da1025",
   "metadata": {
    "tags": []
   },
   "outputs": [
    {
     "name": "stdout",
     "output_type": "stream",
     "text": [
      "{\n",
      "    \"JobBookmarkEntry\": {\n",
      "        \"JobName\": \"demo_2\",\n",
      "        \"Version\": 7,\n",
      "        \"Run\": 5,\n",
      "        \"Attempt\": 0,\n",
      "        \"JobBookmark\": \"\"\n",
      "    }\n",
      "}\n"
     ]
    }
   ],
   "source": [
    "!aws glue reset-job-bookmark --job-name demo_2"
   ]
  },
  {
   "cell_type": "code",
   "execution_count": null,
   "id": "4ca9b55c-1461-422e-a456-e9dd2890c0e6",
   "metadata": {},
   "outputs": [],
   "source": []
  }
 ],
 "metadata": {
  "availableInstances": [
   {
    "_defaultOrder": 0,
    "_isFastLaunch": true,
    "category": "General purpose",
    "gpuNum": 0,
    "hideHardwareSpecs": false,
    "memoryGiB": 4,
    "name": "ml.t3.medium",
    "vcpuNum": 2
   },
   {
    "_defaultOrder": 1,
    "_isFastLaunch": false,
    "category": "General purpose",
    "gpuNum": 0,
    "hideHardwareSpecs": false,
    "memoryGiB": 8,
    "name": "ml.t3.large",
    "vcpuNum": 2
   },
   {
    "_defaultOrder": 2,
    "_isFastLaunch": false,
    "category": "General purpose",
    "gpuNum": 0,
    "hideHardwareSpecs": false,
    "memoryGiB": 16,
    "name": "ml.t3.xlarge",
    "vcpuNum": 4
   },
   {
    "_defaultOrder": 3,
    "_isFastLaunch": false,
    "category": "General purpose",
    "gpuNum": 0,
    "hideHardwareSpecs": false,
    "memoryGiB": 32,
    "name": "ml.t3.2xlarge",
    "vcpuNum": 8
   },
   {
    "_defaultOrder": 4,
    "_isFastLaunch": true,
    "category": "General purpose",
    "gpuNum": 0,
    "hideHardwareSpecs": false,
    "memoryGiB": 8,
    "name": "ml.m5.large",
    "vcpuNum": 2
   },
   {
    "_defaultOrder": 5,
    "_isFastLaunch": false,
    "category": "General purpose",
    "gpuNum": 0,
    "hideHardwareSpecs": false,
    "memoryGiB": 16,
    "name": "ml.m5.xlarge",
    "vcpuNum": 4
   },
   {
    "_defaultOrder": 6,
    "_isFastLaunch": false,
    "category": "General purpose",
    "gpuNum": 0,
    "hideHardwareSpecs": false,
    "memoryGiB": 32,
    "name": "ml.m5.2xlarge",
    "vcpuNum": 8
   },
   {
    "_defaultOrder": 7,
    "_isFastLaunch": false,
    "category": "General purpose",
    "gpuNum": 0,
    "hideHardwareSpecs": false,
    "memoryGiB": 64,
    "name": "ml.m5.4xlarge",
    "vcpuNum": 16
   },
   {
    "_defaultOrder": 8,
    "_isFastLaunch": false,
    "category": "General purpose",
    "gpuNum": 0,
    "hideHardwareSpecs": false,
    "memoryGiB": 128,
    "name": "ml.m5.8xlarge",
    "vcpuNum": 32
   },
   {
    "_defaultOrder": 9,
    "_isFastLaunch": false,
    "category": "General purpose",
    "gpuNum": 0,
    "hideHardwareSpecs": false,
    "memoryGiB": 192,
    "name": "ml.m5.12xlarge",
    "vcpuNum": 48
   },
   {
    "_defaultOrder": 10,
    "_isFastLaunch": false,
    "category": "General purpose",
    "gpuNum": 0,
    "hideHardwareSpecs": false,
    "memoryGiB": 256,
    "name": "ml.m5.16xlarge",
    "vcpuNum": 64
   },
   {
    "_defaultOrder": 11,
    "_isFastLaunch": false,
    "category": "General purpose",
    "gpuNum": 0,
    "hideHardwareSpecs": false,
    "memoryGiB": 384,
    "name": "ml.m5.24xlarge",
    "vcpuNum": 96
   },
   {
    "_defaultOrder": 12,
    "_isFastLaunch": false,
    "category": "General purpose",
    "gpuNum": 0,
    "hideHardwareSpecs": false,
    "memoryGiB": 8,
    "name": "ml.m5d.large",
    "vcpuNum": 2
   },
   {
    "_defaultOrder": 13,
    "_isFastLaunch": false,
    "category": "General purpose",
    "gpuNum": 0,
    "hideHardwareSpecs": false,
    "memoryGiB": 16,
    "name": "ml.m5d.xlarge",
    "vcpuNum": 4
   },
   {
    "_defaultOrder": 14,
    "_isFastLaunch": false,
    "category": "General purpose",
    "gpuNum": 0,
    "hideHardwareSpecs": false,
    "memoryGiB": 32,
    "name": "ml.m5d.2xlarge",
    "vcpuNum": 8
   },
   {
    "_defaultOrder": 15,
    "_isFastLaunch": false,
    "category": "General purpose",
    "gpuNum": 0,
    "hideHardwareSpecs": false,
    "memoryGiB": 64,
    "name": "ml.m5d.4xlarge",
    "vcpuNum": 16
   },
   {
    "_defaultOrder": 16,
    "_isFastLaunch": false,
    "category": "General purpose",
    "gpuNum": 0,
    "hideHardwareSpecs": false,
    "memoryGiB": 128,
    "name": "ml.m5d.8xlarge",
    "vcpuNum": 32
   },
   {
    "_defaultOrder": 17,
    "_isFastLaunch": false,
    "category": "General purpose",
    "gpuNum": 0,
    "hideHardwareSpecs": false,
    "memoryGiB": 192,
    "name": "ml.m5d.12xlarge",
    "vcpuNum": 48
   },
   {
    "_defaultOrder": 18,
    "_isFastLaunch": false,
    "category": "General purpose",
    "gpuNum": 0,
    "hideHardwareSpecs": false,
    "memoryGiB": 256,
    "name": "ml.m5d.16xlarge",
    "vcpuNum": 64
   },
   {
    "_defaultOrder": 19,
    "_isFastLaunch": false,
    "category": "General purpose",
    "gpuNum": 0,
    "hideHardwareSpecs": false,
    "memoryGiB": 384,
    "name": "ml.m5d.24xlarge",
    "vcpuNum": 96
   },
   {
    "_defaultOrder": 20,
    "_isFastLaunch": false,
    "category": "General purpose",
    "gpuNum": 0,
    "hideHardwareSpecs": true,
    "memoryGiB": 0,
    "name": "ml.geospatial.interactive",
    "supportedImageNames": [
     "sagemaker-geospatial-v1-0"
    ],
    "vcpuNum": 0
   },
   {
    "_defaultOrder": 21,
    "_isFastLaunch": true,
    "category": "Compute optimized",
    "gpuNum": 0,
    "hideHardwareSpecs": false,
    "memoryGiB": 4,
    "name": "ml.c5.large",
    "vcpuNum": 2
   },
   {
    "_defaultOrder": 22,
    "_isFastLaunch": false,
    "category": "Compute optimized",
    "gpuNum": 0,
    "hideHardwareSpecs": false,
    "memoryGiB": 8,
    "name": "ml.c5.xlarge",
    "vcpuNum": 4
   },
   {
    "_defaultOrder": 23,
    "_isFastLaunch": false,
    "category": "Compute optimized",
    "gpuNum": 0,
    "hideHardwareSpecs": false,
    "memoryGiB": 16,
    "name": "ml.c5.2xlarge",
    "vcpuNum": 8
   },
   {
    "_defaultOrder": 24,
    "_isFastLaunch": false,
    "category": "Compute optimized",
    "gpuNum": 0,
    "hideHardwareSpecs": false,
    "memoryGiB": 32,
    "name": "ml.c5.4xlarge",
    "vcpuNum": 16
   },
   {
    "_defaultOrder": 25,
    "_isFastLaunch": false,
    "category": "Compute optimized",
    "gpuNum": 0,
    "hideHardwareSpecs": false,
    "memoryGiB": 72,
    "name": "ml.c5.9xlarge",
    "vcpuNum": 36
   },
   {
    "_defaultOrder": 26,
    "_isFastLaunch": false,
    "category": "Compute optimized",
    "gpuNum": 0,
    "hideHardwareSpecs": false,
    "memoryGiB": 96,
    "name": "ml.c5.12xlarge",
    "vcpuNum": 48
   },
   {
    "_defaultOrder": 27,
    "_isFastLaunch": false,
    "category": "Compute optimized",
    "gpuNum": 0,
    "hideHardwareSpecs": false,
    "memoryGiB": 144,
    "name": "ml.c5.18xlarge",
    "vcpuNum": 72
   },
   {
    "_defaultOrder": 28,
    "_isFastLaunch": false,
    "category": "Compute optimized",
    "gpuNum": 0,
    "hideHardwareSpecs": false,
    "memoryGiB": 192,
    "name": "ml.c5.24xlarge",
    "vcpuNum": 96
   },
   {
    "_defaultOrder": 29,
    "_isFastLaunch": true,
    "category": "Accelerated computing",
    "gpuNum": 1,
    "hideHardwareSpecs": false,
    "memoryGiB": 16,
    "name": "ml.g4dn.xlarge",
    "vcpuNum": 4
   },
   {
    "_defaultOrder": 30,
    "_isFastLaunch": false,
    "category": "Accelerated computing",
    "gpuNum": 1,
    "hideHardwareSpecs": false,
    "memoryGiB": 32,
    "name": "ml.g4dn.2xlarge",
    "vcpuNum": 8
   },
   {
    "_defaultOrder": 31,
    "_isFastLaunch": false,
    "category": "Accelerated computing",
    "gpuNum": 1,
    "hideHardwareSpecs": false,
    "memoryGiB": 64,
    "name": "ml.g4dn.4xlarge",
    "vcpuNum": 16
   },
   {
    "_defaultOrder": 32,
    "_isFastLaunch": false,
    "category": "Accelerated computing",
    "gpuNum": 1,
    "hideHardwareSpecs": false,
    "memoryGiB": 128,
    "name": "ml.g4dn.8xlarge",
    "vcpuNum": 32
   },
   {
    "_defaultOrder": 33,
    "_isFastLaunch": false,
    "category": "Accelerated computing",
    "gpuNum": 4,
    "hideHardwareSpecs": false,
    "memoryGiB": 192,
    "name": "ml.g4dn.12xlarge",
    "vcpuNum": 48
   },
   {
    "_defaultOrder": 34,
    "_isFastLaunch": false,
    "category": "Accelerated computing",
    "gpuNum": 1,
    "hideHardwareSpecs": false,
    "memoryGiB": 256,
    "name": "ml.g4dn.16xlarge",
    "vcpuNum": 64
   },
   {
    "_defaultOrder": 35,
    "_isFastLaunch": false,
    "category": "Accelerated computing",
    "gpuNum": 1,
    "hideHardwareSpecs": false,
    "memoryGiB": 61,
    "name": "ml.p3.2xlarge",
    "vcpuNum": 8
   },
   {
    "_defaultOrder": 36,
    "_isFastLaunch": false,
    "category": "Accelerated computing",
    "gpuNum": 4,
    "hideHardwareSpecs": false,
    "memoryGiB": 244,
    "name": "ml.p3.8xlarge",
    "vcpuNum": 32
   },
   {
    "_defaultOrder": 37,
    "_isFastLaunch": false,
    "category": "Accelerated computing",
    "gpuNum": 8,
    "hideHardwareSpecs": false,
    "memoryGiB": 488,
    "name": "ml.p3.16xlarge",
    "vcpuNum": 64
   },
   {
    "_defaultOrder": 38,
    "_isFastLaunch": false,
    "category": "Accelerated computing",
    "gpuNum": 8,
    "hideHardwareSpecs": false,
    "memoryGiB": 768,
    "name": "ml.p3dn.24xlarge",
    "vcpuNum": 96
   },
   {
    "_defaultOrder": 39,
    "_isFastLaunch": false,
    "category": "Memory Optimized",
    "gpuNum": 0,
    "hideHardwareSpecs": false,
    "memoryGiB": 16,
    "name": "ml.r5.large",
    "vcpuNum": 2
   },
   {
    "_defaultOrder": 40,
    "_isFastLaunch": false,
    "category": "Memory Optimized",
    "gpuNum": 0,
    "hideHardwareSpecs": false,
    "memoryGiB": 32,
    "name": "ml.r5.xlarge",
    "vcpuNum": 4
   },
   {
    "_defaultOrder": 41,
    "_isFastLaunch": false,
    "category": "Memory Optimized",
    "gpuNum": 0,
    "hideHardwareSpecs": false,
    "memoryGiB": 64,
    "name": "ml.r5.2xlarge",
    "vcpuNum": 8
   },
   {
    "_defaultOrder": 42,
    "_isFastLaunch": false,
    "category": "Memory Optimized",
    "gpuNum": 0,
    "hideHardwareSpecs": false,
    "memoryGiB": 128,
    "name": "ml.r5.4xlarge",
    "vcpuNum": 16
   },
   {
    "_defaultOrder": 43,
    "_isFastLaunch": false,
    "category": "Memory Optimized",
    "gpuNum": 0,
    "hideHardwareSpecs": false,
    "memoryGiB": 256,
    "name": "ml.r5.8xlarge",
    "vcpuNum": 32
   },
   {
    "_defaultOrder": 44,
    "_isFastLaunch": false,
    "category": "Memory Optimized",
    "gpuNum": 0,
    "hideHardwareSpecs": false,
    "memoryGiB": 384,
    "name": "ml.r5.12xlarge",
    "vcpuNum": 48
   },
   {
    "_defaultOrder": 45,
    "_isFastLaunch": false,
    "category": "Memory Optimized",
    "gpuNum": 0,
    "hideHardwareSpecs": false,
    "memoryGiB": 512,
    "name": "ml.r5.16xlarge",
    "vcpuNum": 64
   },
   {
    "_defaultOrder": 46,
    "_isFastLaunch": false,
    "category": "Memory Optimized",
    "gpuNum": 0,
    "hideHardwareSpecs": false,
    "memoryGiB": 768,
    "name": "ml.r5.24xlarge",
    "vcpuNum": 96
   },
   {
    "_defaultOrder": 47,
    "_isFastLaunch": false,
    "category": "Accelerated computing",
    "gpuNum": 1,
    "hideHardwareSpecs": false,
    "memoryGiB": 16,
    "name": "ml.g5.xlarge",
    "vcpuNum": 4
   },
   {
    "_defaultOrder": 48,
    "_isFastLaunch": false,
    "category": "Accelerated computing",
    "gpuNum": 1,
    "hideHardwareSpecs": false,
    "memoryGiB": 32,
    "name": "ml.g5.2xlarge",
    "vcpuNum": 8
   },
   {
    "_defaultOrder": 49,
    "_isFastLaunch": false,
    "category": "Accelerated computing",
    "gpuNum": 1,
    "hideHardwareSpecs": false,
    "memoryGiB": 64,
    "name": "ml.g5.4xlarge",
    "vcpuNum": 16
   },
   {
    "_defaultOrder": 50,
    "_isFastLaunch": false,
    "category": "Accelerated computing",
    "gpuNum": 1,
    "hideHardwareSpecs": false,
    "memoryGiB": 128,
    "name": "ml.g5.8xlarge",
    "vcpuNum": 32
   },
   {
    "_defaultOrder": 51,
    "_isFastLaunch": false,
    "category": "Accelerated computing",
    "gpuNum": 1,
    "hideHardwareSpecs": false,
    "memoryGiB": 256,
    "name": "ml.g5.16xlarge",
    "vcpuNum": 64
   },
   {
    "_defaultOrder": 52,
    "_isFastLaunch": false,
    "category": "Accelerated computing",
    "gpuNum": 4,
    "hideHardwareSpecs": false,
    "memoryGiB": 192,
    "name": "ml.g5.12xlarge",
    "vcpuNum": 48
   },
   {
    "_defaultOrder": 53,
    "_isFastLaunch": false,
    "category": "Accelerated computing",
    "gpuNum": 4,
    "hideHardwareSpecs": false,
    "memoryGiB": 384,
    "name": "ml.g5.24xlarge",
    "vcpuNum": 96
   },
   {
    "_defaultOrder": 54,
    "_isFastLaunch": false,
    "category": "Accelerated computing",
    "gpuNum": 8,
    "hideHardwareSpecs": false,
    "memoryGiB": 768,
    "name": "ml.g5.48xlarge",
    "vcpuNum": 192
   },
   {
    "_defaultOrder": 55,
    "_isFastLaunch": false,
    "category": "Accelerated computing",
    "gpuNum": 8,
    "hideHardwareSpecs": false,
    "memoryGiB": 1152,
    "name": "ml.p4d.24xlarge",
    "vcpuNum": 96
   },
   {
    "_defaultOrder": 56,
    "_isFastLaunch": false,
    "category": "Accelerated computing",
    "gpuNum": 8,
    "hideHardwareSpecs": false,
    "memoryGiB": 1152,
    "name": "ml.p4de.24xlarge",
    "vcpuNum": 96
   }
  ],
  "instance_type": "ml.t3.medium",
  "kernelspec": {
   "display_name": "Python 3 (Data Science 3.0)",
   "language": "python",
   "name": "python3__SAGEMAKER_INTERNAL__arn:aws:sagemaker:us-east-1:081325390199:image/sagemaker-data-science-310-v1"
  },
  "language_info": {
   "codemirror_mode": {
    "name": "ipython",
    "version": 3
   },
   "file_extension": ".py",
   "mimetype": "text/x-python",
   "name": "python",
   "nbconvert_exporter": "python",
   "pygments_lexer": "ipython3",
   "version": "3.10.6"
  }
 },
 "nbformat": 4,
 "nbformat_minor": 5
}
