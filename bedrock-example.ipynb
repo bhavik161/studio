{
 "cells": [
  {
   "cell_type": "code",
   "execution_count": 3,
   "id": "be2a7247-e7d1-4276-96dd-442357e280f9",
   "metadata": {},
   "outputs": [],
   "source": [
    "import boto3\n",
    "\n",
    "bedrock_agent = boto3.client('bedrock-agent')"
   ]
  },
  {
   "cell_type": "code",
   "execution_count": 11,
   "id": "4ca66b5c-6d3a-4319-924a-a9035475658d",
   "metadata": {},
   "outputs": [],
   "source": [
    "response = bedrock_agent.list_knowledge_bases()\n",
    "response['knowledgeBaseSummaries']\n",
    "knowledgeBaseId = response['knowledgeBaseSummaries'][0]['knowledgeBaseId']"
   ]
  },
  {
   "cell_type": "code",
   "execution_count": null,
   "id": "c007a513-fff6-4ee6-9081-750bb42a9735",
   "metadata": {},
   "outputs": [],
   "source": [
    "response['knowledgeBaseSummaries'][0]"
   ]
  },
  {
   "cell_type": "code",
   "execution_count": 38,
   "id": "c3d432dd-f77c-4d97-809d-2a8135bf34a7",
   "metadata": {},
   "outputs": [],
   "source": [
    "import boto3\n",
    "\n",
    "client = boto3.client('bedrock-agent-runtime')"
   ]
  },
  {
   "cell_type": "code",
   "execution_count": null,
   "id": "f04e6e63-3809-4780-af59-120ba46b7ec8",
   "metadata": {},
   "outputs": [],
   "source": []
  },
  {
   "cell_type": "code",
   "execution_count": 39,
   "id": "931929d8-3333-4ca2-b5fc-47160cda5ba0",
   "metadata": {},
   "outputs": [],
   "source": [
    "response = client.retrieve(knowledgeBaseId=knowledgeBaseId, retrievalQuery={\n",
    "    'text':'summarise different phases of cloud adoption and migration'}\n",
    "               )"
   ]
  },
  {
   "cell_type": "code",
   "execution_count": 44,
   "id": "2719ad2d-6b8c-40d0-ad65-fa57566b519c",
   "metadata": {},
   "outputs": [
    {
     "data": {
      "text/plain": [
       "5"
      ]
     },
     "execution_count": 44,
     "metadata": {},
     "output_type": "execute_result"
    }
   ],
   "source": [
    "len(response['retrievalResults'])\n"
   ]
  },
  {
   "cell_type": "code",
   "execution_count": null,
   "id": "3ef4fdf6-44aa-4bd6-85c4-04098c0ddefa",
   "metadata": {
    "scrolled": true
   },
   "outputs": [],
   "source": [
    "for result in response['retrievalResults']:\n",
    "    print(result['content']['text'])\n",
    "    knowledge_text = result['content']['text']"
   ]
  },
  {
   "cell_type": "code",
   "execution_count": 89,
   "id": "abf20444-df6b-44af-ab46-1cd70800aa99",
   "metadata": {},
   "outputs": [],
   "source": [
    "input_prompt=\"summarize the different phases of cloud adoption and migration\" #this will be input in UI\n",
    "input_prompt=\"how many planets are there in galaxy\""
   ]
  },
  {
   "cell_type": "code",
   "execution_count": 90,
   "id": "5acdc5f2-e6f6-479d-8f22-65465880a8c9",
   "metadata": {},
   "outputs": [],
   "source": [
    "prompt = f\"\"\"{input_prompt} using following \n",
    "            <text>\n",
    "            {knowledge_text}\n",
    "            <text>\n",
    "            \"\"\""
   ]
  },
  {
   "cell_type": "code",
   "execution_count": 91,
   "id": "42331081-36b6-4ba5-9294-37f98eecc72b",
   "metadata": {},
   "outputs": [],
   "source": [
    "import boto3\n",
    "\n",
    "client_bedrock = boto3.client('bedrock')"
   ]
  },
  {
   "cell_type": "code",
   "execution_count": 68,
   "id": "e59ea238-a09c-4b38-a842-e3a3d981aca1",
   "metadata": {},
   "outputs": [],
   "source": [
    "response = client_bedrock.list_foundation_models(\n",
    "    #byProvider='AI21',\n",
    "    #byCustomizationType='FINE_TUNING'|'CONTINUED_PRE_TRAINING',\n",
    "    #byOutputModality='TEXT'|'IMAGE'|'EMBEDDING',\n",
    "    #byInferenceType='ON_DEMAND'|'PROVISIONED'\n",
    ")"
   ]
  },
  {
   "cell_type": "code",
   "execution_count": 70,
   "id": "8167ad07-2300-4348-8dc5-f3267814f1d1",
   "metadata": {},
   "outputs": [],
   "source": [
    "import boto3\n",
    "\n",
    "client_bedrock_runtime = boto3.client('bedrock-runtime')"
   ]
  },
  {
   "cell_type": "code",
   "execution_count": 92,
   "id": "21281a4b-a710-47e9-9198-bd8414a464d7",
   "metadata": {},
   "outputs": [],
   "source": [
    "import json\n",
    "body = json.dumps(\n",
    "    {\n",
    "        \"inputText\":prompt,\n",
    "        \"textGenerationConfig\":{\n",
    "            \"maxTokenCount\":256,\n",
    "            \"stopSequences\":[],\n",
    "            \"temperature\":0,\n",
    "            \"topP\":1\n",
    "        }\n",
    "    }\n",
    ")"
   ]
  },
  {
   "cell_type": "code",
   "execution_count": 93,
   "id": "1c203724-89e8-4d05-aca9-46b9ba01bed6",
   "metadata": {},
   "outputs": [],
   "source": [
    "modelId = \"anthropic.claude-v2:1\""
   ]
  },
  {
   "cell_type": "code",
   "execution_count": 94,
   "id": "657c706c-7111-4f2c-b0ff-377e423b93c4",
   "metadata": {},
   "outputs": [
    {
     "data": {
      "text/plain": [
       "'{\"prompt\": \"\\\\n\\\\nHuman: how many planets are there in galaxy using following \\\\n            <text>\\\\n            This strategy is for anyone planning to migrate their on-premises workloads to the AWS Cloud:  IT and business executives, program and project managers, product owners, and operations  and infrastructure managers. It discusses how you can accelerate your cloud adoption, create a  migration plan, set up a foundation through hands-on experience, and migrate your first set of  applications to the AWS Cloud in weeks.   1        AWS Prescriptive Guidance Mobilize your organization to accelerate large-scale migrations   Overview   To optimize your cloud adoption and migration, you must first assess and evaluate your enterprise  for readiness. After you assess the readiness of your organization, you can accelerate your cloud  adoption and establish a foundation for migration at scale through the hands-on experience of  migrating a first wave of applications in just a few weeks. We discuss these phases in more detail in  the following topics.   The iterative approach to cloud adoption discussed in this guide can be broken out into the three  high-level phases of assess, mobilize, and migrate. These phases are shown in the following  diagram.   Assess   The first phase of a cloud migration begins with a cloud readiness assessment of your enterprise\\\\u2019s  current state. These assessment tasks give you a clear picture of what you will migrate, as well as a  business case for migration and total cost of ownership (TCO) analysis for migration.\\\\n            <text>\\\\n            \\\\\"\\\\n\\\\nAssistant:\", \"max_tokens_to_sample\": 300, \"temperature\": 0.1, \"top_p\": 0.9}'"
      ]
     },
     "execution_count": 94,
     "metadata": {},
     "output_type": "execute_result"
    }
   ],
   "source": [
    "body = json.dumps({\n",
    "    \"prompt\": f\"\"\"\\n\\nHuman: {prompt}\"\\n\\nAssistant:\"\"\",\n",
    "    \"max_tokens_to_sample\": 300,\n",
    "    \"temperature\": 0.1,\n",
    "    \"top_p\": 0.9,\n",
    "})\n",
    "\n",
    "body"
   ]
  },
  {
   "cell_type": "code",
   "execution_count": 95,
   "id": "d93b4d6a-2a7f-4851-9d9d-ed02b028bbfe",
   "metadata": {},
   "outputs": [],
   "source": [
    "response = client_bedrock_runtime.invoke_model(\n",
    "    body=body, #tab'bytes'|file,\n",
    "    contentType='application/json',\n",
    "    accept='application/json',\n",
    "    modelId=modelId\n",
    ")"
   ]
  },
  {
   "cell_type": "code",
   "execution_count": 96,
   "id": "4613b3c8-2de4-4fb1-8a78-a3b02acf3997",
   "metadata": {},
   "outputs": [
    {
     "data": {
      "text/plain": [
       "{'ResponseMetadata': {'RequestId': 'b5fab5a8-3144-4764-85e3-d770537be043',\n",
       "  'HTTPStatusCode': 200,\n",
       "  'HTTPHeaders': {'date': 'Fri, 09 Feb 2024 16:11:36 GMT',\n",
       "   'content-type': 'application/json',\n",
       "   'content-length': '796',\n",
       "   'connection': 'keep-alive',\n",
       "   'x-amzn-requestid': 'b5fab5a8-3144-4764-85e3-d770537be043',\n",
       "   'x-amzn-bedrock-invocation-latency': '4542',\n",
       "   'x-amzn-bedrock-output-token-count': '142',\n",
       "   'x-amzn-bedrock-input-token-count': '318'},\n",
       "  'RetryAttempts': 0},\n",
       " 'contentType': 'application/json',\n",
       " 'body': <botocore.response.StreamingBody at 0x7fc8658bb7f0>}"
      ]
     },
     "execution_count": 96,
     "metadata": {},
     "output_type": "execute_result"
    }
   ],
   "source": [
    "response"
   ]
  },
  {
   "cell_type": "code",
   "execution_count": 97,
   "id": "5d29e639-67f5-4cfc-9acd-46dae65ce3dd",
   "metadata": {},
   "outputs": [],
   "source": [
    "response_body = json.loads(response.get('body').read())\n"
   ]
  },
  {
   "cell_type": "code",
   "execution_count": 98,
   "id": "af1ae91f-d733-4470-b157-5fc968cee8e5",
   "metadata": {},
   "outputs": [
    {
     "data": {
      "text/plain": [
       "\" Unfortunately I am unable to determine the number of planets in the galaxy from the given text. The text discusses strategies and best practices for migrating on-premises workloads to the AWS cloud. It talks about assessing an organization's cloud readiness, mobilizing teams to accelerate adoption, and migrating applications in phases. But it does not contain any information about the number of planets in the galaxy. Without any relevant data in the text related to planets or galaxies, I do not have enough information to answer the question about how many planets are in the galaxy. Please provide text that includes some data or facts related to planets and galaxies if you would like me to determine a number of planets.\""
      ]
     },
     "execution_count": 98,
     "metadata": {},
     "output_type": "execute_result"
    }
   ],
   "source": [
    "response_body['completion']"
   ]
  },
  {
   "cell_type": "code",
   "execution_count": null,
   "id": "1e876198-351c-4153-bc5f-e4f295650678",
   "metadata": {},
   "outputs": [],
   "source": []
  }
 ],
 "metadata": {
  "kernelspec": {
   "display_name": "Python 3 (ipykernel)",
   "language": "python",
   "name": "python3"
  },
  "language_info": {
   "codemirror_mode": {
    "name": "ipython",
    "version": 3
   },
   "file_extension": ".py",
   "mimetype": "text/x-python",
   "name": "python",
   "nbconvert_exporter": "python",
   "pygments_lexer": "ipython3",
   "version": "3.10.13"
  }
 },
 "nbformat": 4,
 "nbformat_minor": 5
}
