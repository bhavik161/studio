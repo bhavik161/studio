{
 "cells": [
  {
   "cell_type": "code",
   "execution_count": null,
   "id": "6513a427-30e0-4357-a42d-54710841daec",
   "metadata": {},
   "outputs": [],
   "source": [
    "!pip install boto3 --upgrade"
   ]
  },
  {
   "cell_type": "code",
   "execution_count": 9,
   "id": "8f03a3bf-7b22-44e7-8ec1-f9b93ce27697",
   "metadata": {},
   "outputs": [
    {
     "data": {
      "text/plain": [
       "'1.34.31'"
      ]
     },
     "execution_count": 9,
     "metadata": {},
     "output_type": "execute_result"
    }
   ],
   "source": [
    "import boto3\n",
    "import json\n",
    "boto3.__version__"
   ]
  },
  {
   "cell_type": "code",
   "execution_count": 2,
   "id": "495ef03a-57a6-46b9-a1e2-cdc4e706f1f0",
   "metadata": {},
   "outputs": [],
   "source": [
    "def get_iam_execution_role():\n",
    "    client = boto3.client('iam')\n",
    "    \n",
    "    response = client.get_role(\n",
    "    RoleName='SandboxServiceRole'\n",
    "                                )\n",
    "    role = response['Role']['Arn']\n",
    "    print(role)\n",
    "    return role"
   ]
  },
  {
   "cell_type": "code",
   "execution_count": 3,
   "id": "d0e0dba7-fa1a-421f-abe7-3f00f29dc1ef",
   "metadata": {},
   "outputs": [],
   "source": [
    "def get_account_id():\n",
    "\n",
    "    # Create an STS client\n",
    "    sts_client = boto3.client('sts')\n",
    "\n",
    "    # Get the caller identity\n",
    "    caller_identity = sts_client.get_caller_identity()\n",
    "\n",
    "    # Extract the account ID from the caller identity\n",
    "    account_id = caller_identity['Account']\n",
    "    return account_id\n",
    "\n"
   ]
  },
  {
   "cell_type": "code",
   "execution_count": 4,
   "id": "4be5ff4d-dcf0-4170-ba2a-312394a8f9e1",
   "metadata": {},
   "outputs": [],
   "source": [
    "def create_bucket_for_canvas():\n",
    "    account_id = get_account_id()\n",
    "    bucket_name = f'sagemaker-canvas-us-east-1-{account_id}'\n",
    "    s3 = boto3.client('s3')\n",
    "    try:\n",
    "        # Check if the bucket exists\n",
    "        s3.head_bucket(Bucket=bucket_name)\n",
    "        print(f\"Bucket '{bucket_name}' already exists.\")\n",
    "        return(bucket_name)\n",
    "    except Exception as e:\n",
    "        # If the bucket doesn't exist, create it\n",
    "        if e.response['Error']['Code'] == '404':\n",
    "            s3.create_bucket(Bucket=bucket_name)\n",
    "            print(f\"Bucket '{bucket_name}' created successfully.\")\n",
    "            return(bucket_name)\n",
    "    else:\n",
    "        raise  # Raise other errors\n"
   ]
  },
  {
   "cell_type": "code",
   "execution_count": 5,
   "id": "e61e4a33-8992-427e-97af-b1f918000084",
   "metadata": {},
   "outputs": [
    {
     "name": "stdout",
     "output_type": "stream",
     "text": [
      "Bucket 'sagemaker-canvas-us-east-1-590116326836' already exists.\n"
     ]
    }
   ],
   "source": [
    "bucket=create_bucket_for_canvas()"
   ]
  },
  {
   "cell_type": "code",
   "execution_count": 6,
   "id": "7d581ea0-67f6-4d2b-9307-c9723e870fa4",
   "metadata": {},
   "outputs": [],
   "source": [
    "def get_network_settings():\n",
    "    ec2=boto3.client('ec2')\n",
    "    vpcs = ec2.describe_vpcs()\n",
    "    \n",
    "    vpcid = vpcs['Vpcs'][0]['VpcId']\n",
    "    \n",
    "    print(vpcid)\n",
    "    \n",
    "    subnets = ec2.describe_subnets()\n",
    "    lst_subnets=[]\n",
    "    for subnet in subnets['Subnets']:\n",
    "        #print(subnet)\n",
    "        #print(subnet['SubnetId'])\n",
    "        lst_subnets.append(subnet['SubnetId'])\n",
    "    print(lst_subnets)\n",
    "    \n",
    "    sggroups = ec2.describe_security_groups()\n",
    "    lst_sgs=[]\n",
    "    for sg in sggroups['SecurityGroups']:\n",
    "        if 'default' in sg['GroupName']:\n",
    "            lst_sgs.append(sg['GroupId'])\n",
    "    print(lst_sgs)\n",
    "    \n",
    "    return(vpcid, lst_subnets, lst_sgs)"
   ]
  },
  {
   "cell_type": "code",
   "execution_count": 7,
   "id": "147fdf20-37ac-41df-8e51-bed8db7ff78f",
   "metadata": {},
   "outputs": [
    {
     "name": "stdout",
     "output_type": "stream",
     "text": [
      "vpc-0b74cb8830dc55a22\n",
      "['subnet-02c740e17fadafbcb', 'subnet-0175bb0a24cff7a46']\n",
      "['sg-00114b3593c46996a', 'sg-0e2d4c9ad905c0a8a']\n",
      "Bucket 'sagemaker-canvas-us-east-1-590116326836' already exists.\n",
      "arn:aws:iam::590116326836:role/SandboxServiceRole\n",
      "arn:aws:iam::590116326836:role/SandboxServiceRole\n"
     ]
    }
   ],
   "source": [
    "def create_sm_domain():\n",
    "    vpc,subnets,securitygroups = get_network_settings()\n",
    "    bucket_name = create_bucket_for_canvas()\n",
    "    smclient = boto3.client('sagemaker')\n",
    "    response = smclient.create_domain(\n",
    "        DomainName='new-studio-domain',\n",
    "        AuthMode='IAM',\n",
    "        DefaultUserSettings={\n",
    "            'ExecutionRole': get_iam_execution_role(),\n",
    "            'SecurityGroups': securitygroups,\n",
    "            \n",
    "            'CanvasAppSettings': {\n",
    "                'TimeSeriesForecastingSettings': {\n",
    "                    'Status': 'DISABLED',\n",
    "                    #'AmazonForecastRoleArn': 'string'\n",
    "                },\n",
    "                'ModelRegisterSettings': {\n",
    "                    'Status': 'ENABLED',\n",
    "                    #'CrossAccountModelRegisterRoleArn': 'string'\n",
    "                },\n",
    "                'WorkspaceSettings': {\n",
    "                    'S3ArtifactPath': f's3://{bucket_name}',\n",
    "                    #'S3KmsKeyId': 'string'\n",
    "                },\n",
    "    \n",
    "            },\n",
    "    \n",
    "            'DefaultLandingUri': 'studio::',\n",
    "            'StudioWebPortal': 'ENABLED',\n",
    "    \n",
    "        },\n",
    "        DomainSettings={\n",
    "            'SecurityGroupIds': securitygroups,\n",
    "    \n",
    "        },\n",
    "        SubnetIds=subnets,\n",
    "        VpcId=vpc,\n",
    "    \n",
    "        DefaultSpaceSettings={\n",
    "            'ExecutionRole': get_iam_execution_role(),\n",
    "            'SecurityGroups':securitygroups,\n",
    "        }\n",
    "    )\n",
    "    return response"
   ]
  },
  {
   "cell_type": "code",
   "execution_count": 8,
   "id": "2fb3ccbf-e6d5-43f4-a571-75d18680b1f7",
   "metadata": {},
   "outputs": [
    {
     "data": {
      "text/plain": [
       "{'DomainArn': 'arn:aws:sagemaker:us-east-1:590116326836:domain/d-3dtwr6ytdu23',\n",
       " 'Url': 'https://d-3dtwr6ytdu23.studio.us-east-1.sagemaker.aws',\n",
       " 'ResponseMetadata': {'RequestId': '53fd4771-758f-4647-a4b7-94097074e6bb',\n",
       "  'HTTPStatusCode': 200,\n",
       "  'HTTPHeaders': {'x-amzn-requestid': '53fd4771-758f-4647-a4b7-94097074e6bb',\n",
       "   'content-type': 'application/x-amz-json-1.1',\n",
       "   'content-length': '140',\n",
       "   'date': 'Wed, 31 Jan 2024 15:21:58 GMT'},\n",
       "  'RetryAttempts': 0}}"
      ]
     },
     "execution_count": 8,
     "metadata": {},
     "output_type": "execute_result"
    }
   ],
   "source": [
    "response"
   ]
  },
  {
   "cell_type": "code",
   "execution_count": null,
   "id": "280dc869-e085-438a-bd52-148b7b233aab",
   "metadata": {},
   "outputs": [],
   "source": []
  }
 ],
 "metadata": {
  "kernelspec": {
   "display_name": "Python 3 (ipykernel)",
   "language": "python",
   "name": "python3"
  },
  "language_info": {
   "codemirror_mode": {
    "name": "ipython",
    "version": 3
   },
   "file_extension": ".py",
   "mimetype": "text/x-python",
   "name": "python",
   "nbconvert_exporter": "python",
   "pygments_lexer": "ipython3",
   "version": "3.10.13"
  }
 },
 "nbformat": 4,
 "nbformat_minor": 5
}
